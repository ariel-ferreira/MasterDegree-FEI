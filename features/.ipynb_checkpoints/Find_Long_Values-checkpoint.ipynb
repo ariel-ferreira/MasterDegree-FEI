{
 "cells": [
  {
   "cell_type": "code",
   "execution_count": 1,
   "id": "36e741f9-1d64-4015-8262-d9f917ddafb4",
   "metadata": {},
   "outputs": [],
   "source": [
    "import os\n",
    "import pandas as pd\n",
    "import numpy as np\n",
    "import re\n",
    "import csv"
   ]
  },
  {
   "cell_type": "code",
   "execution_count": 14,
   "id": "29013646-8f58-4b7e-bbab-bea7e0116285",
   "metadata": {},
   "outputs": [],
   "source": [
    "DIR = os.path.join(os.path.expanduser(\"~\"),'dataSet/audio/agender_distribution/')\n",
    "#files_txt = 'trainSampleList_train.txt'\n",
    "files_txt = 'trainSampleList_devel.txt'"
   ]
  },
  {
   "cell_type": "code",
   "execution_count": 15,
   "id": "5285c809-bff7-4521-bfb8-f6a96fbe08f7",
   "metadata": {},
   "outputs": [],
   "source": [
    "files_table = pd.read_table(str(DIR + files_txt), delimiter=' ', header=None)\n",
    "raw_files = files_table[0]"
   ]
  },
  {
   "cell_type": "code",
   "execution_count": 16,
   "id": "82ae9bcd-1536-48c3-9ba2-538954aaeb02",
   "metadata": {},
   "outputs": [],
   "source": [
    "raw_audio_list = [(DIR + raw_files[i]) for i in range(len(raw_files))]\n",
    "tmp_audio_list = [(DIR + (re.sub(r'.raw', '.mfc.tmp', raw_files[j]))) for j in range(len(raw_files))]"
   ]
  },
  {
   "cell_type": "code",
   "execution_count": 17,
   "id": "b3bfb20f-f4b1-48a8-b7a1-37c372257abe",
   "metadata": {},
   "outputs": [],
   "source": [
    "lista = []\n",
    "c = 0\n",
    "for k in range(len(tmp_audio_list)):\n",
    "    file = tmp_audio_list[k]\n",
    "    with open(file, 'r') as f:\n",
    "        file_content = f.readlines()\n",
    "        file_content = file_content[1:-1]\n",
    "        for line in file_content:\n",
    "            s = re.search('[^-:\\.\\s\\d\\r\\n]', line)\n",
    "            if s == True:\n",
    "                lista.append(file)\n",
    "                c += 1\n",
    "            else:\n",
    "                None\n",
    "                "
   ]
  },
  {
   "cell_type": "code",
   "execution_count": 18,
   "id": "a777759d-ea17-4c65-ab4b-820d254d267d",
   "metadata": {},
   "outputs": [
    {
     "data": {
      "text/plain": [
       "[]"
      ]
     },
     "execution_count": 18,
     "metadata": {},
     "output_type": "execute_result"
    }
   ],
   "source": [
    "lista"
   ]
  },
  {
   "cell_type": "code",
   "execution_count": null,
   "id": "0647eb87-0287-4532-b67f-faf51b3ce3a3",
   "metadata": {},
   "outputs": [],
   "source": []
  },
  {
   "cell_type": "code",
   "execution_count": null,
   "id": "b8fbef24-03c2-484a-91d6-da9969721899",
   "metadata": {},
   "outputs": [],
   "source": []
  },
  {
   "cell_type": "code",
   "execution_count": null,
   "id": "4ddc45fe-04c9-4d5c-be11-9ba67673e5f1",
   "metadata": {},
   "outputs": [],
   "source": []
  }
 ],
 "metadata": {
  "kernelspec": {
   "display_name": "Python 3 (ipykernel)",
   "language": "python",
   "name": "python3"
  },
  "language_info": {
   "codemirror_mode": {
    "name": "ipython",
    "version": 3
   },
   "file_extension": ".py",
   "mimetype": "text/x-python",
   "name": "python",
   "nbconvert_exporter": "python",
   "pygments_lexer": "ipython3",
   "version": "3.10.4"
  }
 },
 "nbformat": 4,
 "nbformat_minor": 5
}
