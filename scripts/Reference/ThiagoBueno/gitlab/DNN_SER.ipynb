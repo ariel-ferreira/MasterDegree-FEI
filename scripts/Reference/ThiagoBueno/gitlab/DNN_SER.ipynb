{
 "cells": [
  {
   "cell_type": "code",
   "execution_count": 1,
   "metadata": {},
   "outputs": [],
   "source": [
    "import numpy as np\n",
    "import matplotlib.pyplot as plt\n",
    "import tensorflow as tf\n",
    "import os\n",
    "import sys\n",
    "import librosa\n",
    "import pandas as pd\n",
    "from sklearn.preprocessing import LabelEncoder\n",
    "from keras.utils.np_utils import to_categorical\n",
    "from sklearn.preprocessing import StandardScaler\n",
    "from keras.models import Sequential\n",
    "from keras.layers import Dense, Dropout, Activation, Flatten\n",
    "from keras.callbacks import EarlyStopping\n",
    "import time"
   ]
  },
  {
   "cell_type": "code",
   "execution_count": 2,
   "metadata": {},
   "outputs": [],
   "source": [
    "PATH = '/home/ferreiraa/Documents/Mestrado/trabalho/redeNeural/agender_distribution/'"
   ]
  },
  {
   "cell_type": "code",
   "execution_count": 3,
   "metadata": {},
   "outputs": [],
   "source": [
    "def Feat_extract(files):\n",
    "    file_name = os.path.join(os.path.abspath(PATH+str(files.file)))\n",
    "    X, sample_rate = librosa.load(file_name, res_type='kaiser_fast')\n",
    "    # Generate Mel-frequency cepstral coefficients (MFCCs) and Delta-MFCCs from a time series\n",
    "    MFCC_ = librosa.feature.mfcc(y=X, sr=sample_rate, n_mfcc=40)\n",
    "    mfccs = np.mean(MFCC_.T,axis=0)\n",
    "    Delta_Mfcc = np.mean(librosa.feature.delta(MFCC_).T,axis=0)\n",
    "    mel = np.mean(librosa.feature.melspectrogram(X, sr=sample_rate).T,axis=0)# Computes melspectrogram\n",
    "    tonnetz = np.mean(librosa.feature.tonnetz(y=librosa.effects.harmonic(X),sr=sample_rate).T,axis=0) #Compute 6 features based on Tones\n",
    "    contrast = np.mean(librosa.feature.spectral_contrast(S=np.abs(librosa.stft(X)), sr=sample_rate).T,axis=0) # Computes spectral contrast\n",
    "    ZCR = np.mean(librosa.feature.zero_crossing_rate(y=X).T,axis=0) # Zero-Crossing rate - 1 Value\n",
    "    RMS = np.mean(librosa.feature.rms(y=X).T,axis=0) # RMS - 1 Value\n",
    "    np.savez(file_name, mfccs=mfccs, Delta_Mfcc=Delta_Mfcc, contrast=contrast, mel=mel, tonnetz=tonnetz, ZCR=ZCR, RMS=RMS)\n",
    "    return mfccs, Delta_Mfcc, contrast, mel, tonnetz, ZCR, RMS"
   ]
  },
  {
   "cell_type": "code",
   "execution_count": 4,
   "metadata": {},
   "outputs": [],
   "source": [
    "Batch = 128\n",
    "Epoch = 100\n",
    "\n",
    "#Read files and split result from file\n",
    "Train_file = pd.read_csv(\"Csv/train.csv\")\n",
    "Test_file = pd.read_csv(\"Csv/test.csv\")\n",
    "#Val_file = pd.read_csv(\"Csv/Valid_2.csv\")\n",
    "Arq_train = Train_file['file']\n",
    "Arq_test = Test_file['file']\n",
    "#Arq_val = Val_file['file']\n",
    "Res_train = Train_file['class']\n",
    "Res_test = Test_file['class']\n",
    "#Res_val = Val_file['class']\n",
    "\n",
    "V_train_x = []\n",
    "for i in Arq_train:\n",
    "    if i !='file':\n",
    "        V_train_x.append(i)\n",
    "\n",
    "V_test_x = []\n",
    "for i in Arq_test:\n",
    "    if i !='file':\n",
    "        V_test_x.append(i)\n",
    "\n",
    "'''V_val_x = []\n",
    "for i in Arq_val:\n",
    "    if i !='file':\n",
    "        V_val_x.append(i)'''\n",
    "\n",
    "train_df = pd.DataFrame(V_train_x)\n",
    "test_df = pd.DataFrame(V_test_x)\n",
    "#val_df = pd.DataFrame(V_val_x)\n",
    "\n",
    "train_df = train_df.rename(columns={0:'file'})\n",
    "test_df = test_df.rename(columns={0:'file'})\n",
    "#val_df = val_df.rename(columns={0:'file'})"
   ]
  },
  {
   "cell_type": "code",
   "execution_count": null,
   "metadata": {},
   "outputs": [],
   "source": [
    "#train_features = train_df.apply(Feat_extract, axis=1)\n",
    "#ini_feat = time.time()\n",
    "#test_features = test_df.apply(Feat_extract, axis=1)\n",
    "#fim_feat = time.time() - ini_feat\n",
    "#val_features = val_df.apply(Feat_extract, axis=1)"
   ]
  },
  {
   "cell_type": "code",
   "execution_count": 5,
   "metadata": {},
   "outputs": [
    {
     "data": {
      "text/plain": [
       "\"features_val = []\\nfor i in range(0, len(val_df)):\\n    c = np.load(PATH + val_df['file'][i] + '.npz')\\n    features_val.append(np.concatenate((\\n        c['mfccs'],\\n        c['Delta_Mfcc'],\\n        c['contrast'],\\n        c['mel'],\\n        c['tonnetz'],\\n        c['ZCR'],\\n        c['RMS']), axis=0))\""
      ]
     },
     "execution_count": 5,
     "metadata": {},
     "output_type": "execute_result"
    }
   ],
   "source": [
    "features_train = []\n",
    "for i in range(0, len(train_df)):\n",
    "    a = np.load(PATH + train_df['file'][i] + '.npz')\n",
    "    features_train.append(np.concatenate((\n",
    "        a['mfccs'],\n",
    "        a['Delta_Mfcc'],\n",
    "        a['contrast'],\n",
    "        a['mel'],\n",
    "        a['tonnetz'],\n",
    "        a['ZCR'],\n",
    "        a['RMS']), axis=0))\n",
    "    \n",
    "features_test = []\n",
    "for i in range(0, len(test_df)):\n",
    "    b = np.load(PATH + test_df['file'][i] + '.npz')\n",
    "    features_test.append(np.concatenate((\n",
    "        b['mfccs'],\n",
    "        b['Delta_Mfcc'],\n",
    "        b['contrast'],\n",
    "        b['mel'],\n",
    "        b['tonnetz'],\n",
    "        b['ZCR'],\n",
    "        b['RMS']), axis=0))\n",
    "    \n",
    "\"\"\"features_val = []\n",
    "for i in range(0, len(val_df)):\n",
    "    c = np.load(PATH + val_df['file'][i] + '.npz')\n",
    "    features_val.append(np.concatenate((\n",
    "        c['mfccs'],\n",
    "        c['Delta_Mfcc'],\n",
    "        c['contrast'],\n",
    "        c['mel'],\n",
    "        c['tonnetz'],\n",
    "        c['ZCR'],\n",
    "        c['RMS']), axis=0))\"\"\""
   ]
  },
  {
   "cell_type": "code",
   "execution_count": 6,
   "metadata": {},
   "outputs": [],
   "source": [
    "X_test = np.array(features_test)\n",
    "X_train = np.array(features_train)\n",
    "Y_train = np.array(Res_train)\n",
    "#X_val = np.array(features_val)\n",
    "#Y_val = np.array(Res_val)\n",
    "\n",
    "lb = LabelEncoder()\n",
    "Y_train = to_categorical(lb.fit_transform(Y_train))\n",
    "#Y_val = to_categorical(lb.fit_transform(Y_val))\n",
    "\n",
    "ss = StandardScaler()\n",
    "X_train = ss.fit_transform(X_train)\n",
    "#X_val = ss.transform(X_val)\n",
    "X_test = ss.transform(X_test)\n",
    "\n",
    "input = 223"
   ]
  },
  {
   "cell_type": "code",
   "execution_count": 7,
   "metadata": {},
   "outputs": [],
   "source": [
    "InpSp = input\n",
    "Y_test = Res_test"
   ]
  },
  {
   "cell_type": "code",
   "execution_count": 8,
   "metadata": {},
   "outputs": [],
   "source": [
    "HU = int(InpSp * 3) # Hiddent units (First Hidden Layer)\n",
    "model = Sequential()\n",
    "model.add(Dense(HU, input_shape=(InpSp,), activation = 'relu'))\n",
    "model.add(Dense(InpSp*2, activation = 'relu'))\n",
    "model.add(Dropout(0.2))\n",
    "model.add(Dense(InpSp, activation = 'relu'))\n",
    "model.add(Dropout(0.15))\n",
    "model.add(Dense(6, activation = 'softmax'))\n",
    "model.compile(loss='categorical_crossentropy', metrics=['accuracy'], optimizer='adam')\n",
    "#early_stop = EarlyStopping(monitor='val_loss', min_delta=0, patience=100, verbose=1, mode='auto')"
   ]
  },
  {
   "cell_type": "code",
   "execution_count": 10,
   "metadata": {},
   "outputs": [
    {
     "name": "stdout",
     "output_type": "stream",
     "text": [
      "Epoch 1/100\n",
      "198/198 [==============================] - 2s 9ms/step - loss: 0.9871 - accuracy: 0.6103 - val_loss: 1.4319 - val_accuracy: 0.4509\n",
      "Epoch 2/100\n",
      "198/198 [==============================] - 1s 8ms/step - loss: 0.8192 - accuracy: 0.6863 - val_loss: 2.3589 - val_accuracy: 0.2784\n",
      "Epoch 3/100\n",
      "198/198 [==============================] - 2s 8ms/step - loss: 0.6855 - accuracy: 0.7377 - val_loss: 2.7246 - val_accuracy: 0.2977\n",
      "Epoch 4/100\n",
      "198/198 [==============================] - 1s 8ms/step - loss: 0.5861 - accuracy: 0.7783 - val_loss: 2.5362 - val_accuracy: 0.3834\n",
      "Epoch 5/100\n",
      "198/198 [==============================] - 1s 8ms/step - loss: 0.4938 - accuracy: 0.8158 - val_loss: 2.7939 - val_accuracy: 0.3659\n",
      "Epoch 6/100\n",
      "198/198 [==============================] - 2s 8ms/step - loss: 0.4263 - accuracy: 0.8422 - val_loss: 2.9216 - val_accuracy: 0.3389\n",
      "Epoch 7/100\n",
      "198/198 [==============================] - 2s 8ms/step - loss: 0.3614 - accuracy: 0.8676 - val_loss: 2.8073 - val_accuracy: 0.3919\n",
      "Epoch 8/100\n",
      "198/198 [==============================] - 2s 8ms/step - loss: 0.3277 - accuracy: 0.8898 - val_loss: 4.1064 - val_accuracy: 0.3073\n",
      "Epoch 9/100\n",
      "198/198 [==============================] - 1s 8ms/step - loss: 0.2691 - accuracy: 0.9016 - val_loss: 3.7937 - val_accuracy: 0.3634\n",
      "Epoch 10/100\n",
      "198/198 [==============================] - 2s 8ms/step - loss: 0.2314 - accuracy: 0.9174 - val_loss: 4.2573 - val_accuracy: 0.3482\n",
      "Epoch 11/100\n",
      "198/198 [==============================] - 2s 8ms/step - loss: 0.2018 - accuracy: 0.9271 - val_loss: 5.2729 - val_accuracy: 0.2817\n",
      "Epoch 12/100\n",
      "198/198 [==============================] - 2s 8ms/step - loss: 0.1805 - accuracy: 0.9353 - val_loss: 4.2648 - val_accuracy: 0.3361\n",
      "Epoch 13/100\n",
      "198/198 [==============================] - 2s 8ms/step - loss: 0.1683 - accuracy: 0.9401 - val_loss: 4.9520 - val_accuracy: 0.3425\n",
      "Epoch 14/100\n",
      "198/198 [==============================] - 2s 8ms/step - loss: 0.1582 - accuracy: 0.9429 - val_loss: 6.1974 - val_accuracy: 0.2973\n",
      "Epoch 15/100\n",
      "198/198 [==============================] - 1s 7ms/step - loss: 0.1472 - accuracy: 0.9497 - val_loss: 6.7338 - val_accuracy: 0.2749\n",
      "Epoch 16/100\n",
      "198/198 [==============================] - 2s 8ms/step - loss: 0.1308 - accuracy: 0.9558 - val_loss: 5.5509 - val_accuracy: 0.3129\n",
      "Epoch 17/100\n",
      "198/198 [==============================] - 2s 8ms/step - loss: 0.1325 - accuracy: 0.9565 - val_loss: 5.7294 - val_accuracy: 0.3240\n",
      "Epoch 18/100\n",
      "198/198 [==============================] - 2s 8ms/step - loss: 0.1182 - accuracy: 0.9602 - val_loss: 6.0849 - val_accuracy: 0.2895\n",
      "Epoch 19/100\n",
      "198/198 [==============================] - 2s 10ms/step - loss: 0.1176 - accuracy: 0.9607 - val_loss: 7.1166 - val_accuracy: 0.2696\n",
      "Epoch 20/100\n",
      "198/198 [==============================] - 2s 8ms/step - loss: 0.1136 - accuracy: 0.9617 - val_loss: 5.9797 - val_accuracy: 0.3048\n",
      "Epoch 21/100\n",
      "198/198 [==============================] - 2s 9ms/step - loss: 0.1055 - accuracy: 0.9639 - val_loss: 6.7936 - val_accuracy: 0.3129\n",
      "Epoch 22/100\n",
      "198/198 [==============================] - 2s 8ms/step - loss: 0.1003 - accuracy: 0.9650 - val_loss: 6.4893 - val_accuracy: 0.2639\n",
      "Epoch 23/100\n",
      "198/198 [==============================] - 2s 8ms/step - loss: 0.0929 - accuracy: 0.9673 - val_loss: 6.0678 - val_accuracy: 0.3659\n",
      "Epoch 24/100\n",
      "198/198 [==============================] - 2s 8ms/step - loss: 0.0953 - accuracy: 0.9689 - val_loss: 7.2756 - val_accuracy: 0.2852\n",
      "Epoch 25/100\n",
      "198/198 [==============================] - 2s 8ms/step - loss: 0.1375 - accuracy: 0.9593 - val_loss: 5.2251 - val_accuracy: 0.3208\n",
      "Epoch 26/100\n",
      "198/198 [==============================] - 2s 8ms/step - loss: 0.0848 - accuracy: 0.9700 - val_loss: 7.4348 - val_accuracy: 0.2966\n",
      "Epoch 27/100\n",
      "198/198 [==============================] - 2s 8ms/step - loss: 0.0771 - accuracy: 0.9741 - val_loss: 6.2096 - val_accuracy: 0.3357\n",
      "Epoch 28/100\n",
      "198/198 [==============================] - 2s 8ms/step - loss: 0.0914 - accuracy: 0.9725 - val_loss: 5.5958 - val_accuracy: 0.3819\n",
      "Epoch 29/100\n",
      "198/198 [==============================] - 2s 8ms/step - loss: 0.0789 - accuracy: 0.9738 - val_loss: 7.5798 - val_accuracy: 0.2568\n",
      "Epoch 30/100\n",
      "198/198 [==============================] - 2s 8ms/step - loss: 0.0868 - accuracy: 0.9721 - val_loss: 7.3999 - val_accuracy: 0.2788\n",
      "Epoch 31/100\n",
      "198/198 [==============================] - 2s 8ms/step - loss: 0.0823 - accuracy: 0.9730 - val_loss: 6.4328 - val_accuracy: 0.3602\n",
      "Epoch 32/100\n",
      "198/198 [==============================] - 2s 11ms/step - loss: 0.0696 - accuracy: 0.9752 - val_loss: 7.6340 - val_accuracy: 0.3151\n",
      "Epoch 33/100\n",
      "198/198 [==============================] - 2s 8ms/step - loss: 0.0790 - accuracy: 0.9729 - val_loss: 6.8263 - val_accuracy: 0.3272\n",
      "Epoch 34/100\n",
      "198/198 [==============================] - 2s 8ms/step - loss: 0.0869 - accuracy: 0.9751 - val_loss: 7.1084 - val_accuracy: 0.3460\n",
      "Epoch 35/100\n",
      "198/198 [==============================] - 2s 8ms/step - loss: 0.0675 - accuracy: 0.9781 - val_loss: 9.1409 - val_accuracy: 0.2763\n",
      "Epoch 36/100\n",
      "198/198 [==============================] - 2s 8ms/step - loss: 0.0736 - accuracy: 0.9764 - val_loss: 8.1310 - val_accuracy: 0.2923\n",
      "Epoch 37/100\n",
      "198/198 [==============================] - 2s 8ms/step - loss: 0.0681 - accuracy: 0.9781 - val_loss: 7.5513 - val_accuracy: 0.3062\n",
      "Epoch 38/100\n",
      "198/198 [==============================] - 2s 8ms/step - loss: 0.0677 - accuracy: 0.9767 - val_loss: 8.0277 - val_accuracy: 0.2962\n",
      "Epoch 39/100\n",
      "198/198 [==============================] - 2s 8ms/step - loss: 0.0723 - accuracy: 0.9785 - val_loss: 7.3879 - val_accuracy: 0.3211\n",
      "Epoch 40/100\n",
      "198/198 [==============================] - 2s 8ms/step - loss: 0.0680 - accuracy: 0.9768 - val_loss: 7.9659 - val_accuracy: 0.2934\n",
      "Epoch 41/100\n",
      "198/198 [==============================] - 2s 8ms/step - loss: 0.0647 - accuracy: 0.9786 - val_loss: 6.9955 - val_accuracy: 0.3378\n",
      "Epoch 42/100\n",
      "198/198 [==============================] - 2s 9ms/step - loss: 0.0727 - accuracy: 0.9771 - val_loss: 6.7475 - val_accuracy: 0.3567\n",
      "Epoch 43/100\n",
      "198/198 [==============================] - 2s 11ms/step - loss: 0.0595 - accuracy: 0.9796 - val_loss: 6.3457 - val_accuracy: 0.3659\n",
      "Epoch 44/100\n",
      "198/198 [==============================] - 2s 11ms/step - loss: 0.0674 - accuracy: 0.9788 - val_loss: 6.1911 - val_accuracy: 0.3883\n",
      "Epoch 45/100\n",
      "198/198 [==============================] - 2s 8ms/step - loss: 0.0734 - accuracy: 0.9779 - val_loss: 7.4396 - val_accuracy: 0.3133\n",
      "Epoch 46/100\n",
      "198/198 [==============================] - 2s 8ms/step - loss: 0.0649 - accuracy: 0.9784 - val_loss: 8.5661 - val_accuracy: 0.2916\n",
      "Epoch 47/100\n",
      "198/198 [==============================] - 2s 8ms/step - loss: 0.0658 - accuracy: 0.9789 - val_loss: 7.2129 - val_accuracy: 0.3396\n",
      "Epoch 48/100\n",
      "198/198 [==============================] - 2s 8ms/step - loss: 0.0524 - accuracy: 0.9823 - val_loss: 6.4817 - val_accuracy: 0.3467\n",
      "Epoch 49/100\n",
      "198/198 [==============================] - 2s 8ms/step - loss: 0.0536 - accuracy: 0.9832 - val_loss: 7.5632 - val_accuracy: 0.3090\n",
      "Epoch 50/100\n",
      "198/198 [==============================] - 2s 8ms/step - loss: 0.0437 - accuracy: 0.9861 - val_loss: 8.0747 - val_accuracy: 0.2856\n",
      "Epoch 51/100\n",
      "198/198 [==============================] - 2s 8ms/step - loss: 0.0605 - accuracy: 0.9823 - val_loss: 8.9415 - val_accuracy: 0.2774\n",
      "Epoch 52/100\n",
      "198/198 [==============================] - 2s 9ms/step - loss: 0.0603 - accuracy: 0.9812 - val_loss: 8.3559 - val_accuracy: 0.2817\n",
      "Epoch 53/100\n",
      "198/198 [==============================] - 2s 8ms/step - loss: 0.0588 - accuracy: 0.9819 - val_loss: 8.0075 - val_accuracy: 0.2774\n",
      "Epoch 54/100\n",
      "198/198 [==============================] - 2s 8ms/step - loss: 0.0506 - accuracy: 0.9827 - val_loss: 7.1603 - val_accuracy: 0.3304\n",
      "Epoch 55/100\n",
      "198/198 [==============================] - 2s 8ms/step - loss: 0.0594 - accuracy: 0.9813 - val_loss: 8.7863 - val_accuracy: 0.3101\n",
      "Epoch 56/100\n",
      "198/198 [==============================] - 2s 8ms/step - loss: 0.0609 - accuracy: 0.9813 - val_loss: 7.6436 - val_accuracy: 0.2998\n",
      "Epoch 57/100\n",
      "198/198 [==============================] - 2s 8ms/step - loss: 0.0492 - accuracy: 0.9841 - val_loss: 8.0021 - val_accuracy: 0.3190\n",
      "Epoch 58/100\n",
      "198/198 [==============================] - 2s 8ms/step - loss: 0.0519 - accuracy: 0.9826 - val_loss: 8.6808 - val_accuracy: 0.2578\n",
      "Epoch 59/100\n",
      "198/198 [==============================] - 2s 8ms/step - loss: 0.0526 - accuracy: 0.9829 - val_loss: 8.2571 - val_accuracy: 0.3033\n",
      "Epoch 60/100\n",
      "198/198 [==============================] - 2s 8ms/step - loss: 0.0528 - accuracy: 0.9831 - val_loss: 8.1269 - val_accuracy: 0.2838\n",
      "Epoch 61/100\n",
      "198/198 [==============================] - 2s 8ms/step - loss: 0.0521 - accuracy: 0.9829 - val_loss: 7.8284 - val_accuracy: 0.3378\n",
      "Epoch 62/100\n",
      "198/198 [==============================] - 2s 8ms/step - loss: 0.0526 - accuracy: 0.9826 - val_loss: 8.5446 - val_accuracy: 0.3304\n",
      "Epoch 63/100\n",
      "198/198 [==============================] - 2s 8ms/step - loss: 0.0551 - accuracy: 0.9823 - val_loss: 9.0661 - val_accuracy: 0.2752\n",
      "Epoch 64/100\n",
      "198/198 [==============================] - 2s 9ms/step - loss: 0.0486 - accuracy: 0.9840 - val_loss: 10.4331 - val_accuracy: 0.2511\n",
      "Epoch 65/100\n",
      "198/198 [==============================] - 2s 8ms/step - loss: 0.0514 - accuracy: 0.9834 - val_loss: 9.1075 - val_accuracy: 0.3112\n",
      "Epoch 66/100\n",
      "198/198 [==============================] - 2s 8ms/step - loss: 0.0379 - accuracy: 0.9873 - val_loss: 8.8130 - val_accuracy: 0.2994\n",
      "Epoch 67/100\n",
      "198/198 [==============================] - 2s 9ms/step - loss: 0.0416 - accuracy: 0.9859 - val_loss: 8.4966 - val_accuracy: 0.3385\n",
      "Epoch 68/100\n",
      "198/198 [==============================] - 2s 9ms/step - loss: 0.0548 - accuracy: 0.9834 - val_loss: 6.9699 - val_accuracy: 0.3197\n",
      "Epoch 69/100\n",
      "198/198 [==============================] - 2s 8ms/step - loss: 0.0501 - accuracy: 0.9836 - val_loss: 7.0087 - val_accuracy: 0.3457\n",
      "Epoch 70/100\n",
      "198/198 [==============================] - 2s 8ms/step - loss: 0.0555 - accuracy: 0.9819 - val_loss: 6.2691 - val_accuracy: 0.3745\n",
      "Epoch 71/100\n",
      "198/198 [==============================] - 2s 9ms/step - loss: 0.0435 - accuracy: 0.9852 - val_loss: 8.9091 - val_accuracy: 0.2955\n",
      "Epoch 72/100\n",
      "198/198 [==============================] - 2s 8ms/step - loss: 0.0419 - accuracy: 0.9868 - val_loss: 8.1874 - val_accuracy: 0.2969\n",
      "Epoch 73/100\n",
      "198/198 [==============================] - 2s 8ms/step - loss: 0.0536 - accuracy: 0.9846 - val_loss: 7.7149 - val_accuracy: 0.3119\n",
      "Epoch 74/100\n",
      "198/198 [==============================] - 2s 8ms/step - loss: 0.0453 - accuracy: 0.9856 - val_loss: 10.3369 - val_accuracy: 0.2852\n",
      "Epoch 75/100\n",
      "198/198 [==============================] - 2s 8ms/step - loss: 0.0477 - accuracy: 0.9855 - val_loss: 8.8487 - val_accuracy: 0.3016\n",
      "Epoch 76/100\n",
      "198/198 [==============================] - 2s 8ms/step - loss: 0.0443 - accuracy: 0.9848 - val_loss: 8.1527 - val_accuracy: 0.2973\n",
      "Epoch 77/100\n",
      "198/198 [==============================] - 2s 9ms/step - loss: 0.0440 - accuracy: 0.9858 - val_loss: 7.6511 - val_accuracy: 0.3713\n",
      "Epoch 78/100\n",
      "198/198 [==============================] - 2s 8ms/step - loss: 0.0513 - accuracy: 0.9841 - val_loss: 8.9503 - val_accuracy: 0.2603\n",
      "Epoch 79/100\n",
      "198/198 [==============================] - 2s 8ms/step - loss: 0.0549 - accuracy: 0.9840 - val_loss: 8.1318 - val_accuracy: 0.2809\n",
      "Epoch 80/100\n",
      "198/198 [==============================] - 2s 8ms/step - loss: 0.0509 - accuracy: 0.9859 - val_loss: 8.3585 - val_accuracy: 0.2966\n",
      "Epoch 81/100\n",
      "198/198 [==============================] - 2s 9ms/step - loss: 0.0432 - accuracy: 0.9856 - val_loss: 9.3949 - val_accuracy: 0.2667\n",
      "Epoch 82/100\n",
      "198/198 [==============================] - 2s 8ms/step - loss: 0.0420 - accuracy: 0.9862 - val_loss: 8.8215 - val_accuracy: 0.2863\n",
      "Epoch 83/100\n",
      "198/198 [==============================] - 2s 8ms/step - loss: 0.0413 - accuracy: 0.9875 - val_loss: 9.1496 - val_accuracy: 0.2820\n",
      "Epoch 84/100\n",
      "198/198 [==============================] - 2s 8ms/step - loss: 0.0475 - accuracy: 0.9853 - val_loss: 7.4560 - val_accuracy: 0.3300\n",
      "Epoch 85/100\n",
      "198/198 [==============================] - 2s 8ms/step - loss: 0.0426 - accuracy: 0.9859 - val_loss: 10.6904 - val_accuracy: 0.2365\n",
      "Epoch 86/100\n",
      "198/198 [==============================] - 2s 8ms/step - loss: 0.0408 - accuracy: 0.9868 - val_loss: 8.5607 - val_accuracy: 0.3446\n",
      "Epoch 87/100\n",
      "198/198 [==============================] - 2s 8ms/step - loss: 0.0410 - accuracy: 0.9877 - val_loss: 9.0054 - val_accuracy: 0.3144\n",
      "Epoch 88/100\n",
      "198/198 [==============================] - 2s 9ms/step - loss: 0.0405 - accuracy: 0.9877 - val_loss: 9.3381 - val_accuracy: 0.3144\n",
      "Epoch 89/100\n",
      "198/198 [==============================] - 2s 8ms/step - loss: 0.0456 - accuracy: 0.9859 - val_loss: 9.4600 - val_accuracy: 0.2820\n",
      "Epoch 90/100\n",
      "198/198 [==============================] - 2s 8ms/step - loss: 0.0360 - accuracy: 0.9882 - val_loss: 10.3607 - val_accuracy: 0.2802\n",
      "Epoch 91/100\n",
      "198/198 [==============================] - 2s 8ms/step - loss: 0.0404 - accuracy: 0.9867 - val_loss: 8.5431 - val_accuracy: 0.3240\n",
      "Epoch 92/100\n",
      "198/198 [==============================] - 2s 8ms/step - loss: 0.0419 - accuracy: 0.9861 - val_loss: 8.1669 - val_accuracy: 0.3122\n",
      "Epoch 93/100\n",
      "198/198 [==============================] - 2s 9ms/step - loss: 0.0396 - accuracy: 0.9871 - val_loss: 8.5490 - val_accuracy: 0.4001\n",
      "Epoch 94/100\n",
      "198/198 [==============================] - 2s 8ms/step - loss: 0.0402 - accuracy: 0.9864 - val_loss: 9.2031 - val_accuracy: 0.3329\n",
      "Epoch 95/100\n",
      "198/198 [==============================] - 2s 8ms/step - loss: 0.0423 - accuracy: 0.9870 - val_loss: 8.9134 - val_accuracy: 0.3240\n",
      "Epoch 96/100\n",
      "198/198 [==============================] - 2s 8ms/step - loss: 0.0358 - accuracy: 0.9881 - val_loss: 10.7851 - val_accuracy: 0.3265\n",
      "Epoch 97/100\n",
      "198/198 [==============================] - 2s 8ms/step - loss: 0.0502 - accuracy: 0.9870 - val_loss: 6.7760 - val_accuracy: 0.3268\n",
      "Epoch 98/100\n",
      "198/198 [==============================] - 2s 8ms/step - loss: 0.0365 - accuracy: 0.9887 - val_loss: 7.8079 - val_accuracy: 0.3421\n",
      "Epoch 99/100\n",
      "198/198 [==============================] - 2s 8ms/step - loss: 0.0466 - accuracy: 0.9876 - val_loss: 9.2841 - val_accuracy: 0.3115\n",
      "Epoch 100/100\n",
      "198/198 [==============================] - 2s 8ms/step - loss: 0.0385 - accuracy: 0.9882 - val_loss: 9.5369 - val_accuracy: 0.2934\n"
     ]
    }
   ],
   "source": [
    "ini_train = time.time()\n",
    "#history = model.fit(X_train, Y_train, batch_size=Batch, epochs=Epoch, validation_data=(X_val, Y_val))#,callbacks=[early_stop])\n",
    "history = model.fit(X_train, Y_train, batch_size=Batch, epochs=Epoch, validation_split=0.1)\n",
    "#model.save(\"model_\"+str(Epoch)+'_'+str(Batch))\n",
    "fim_train = time.time() - ini_train"
   ]
  },
  {
   "cell_type": "code",
   "execution_count": 11,
   "metadata": {},
   "outputs": [
    {
     "data": {
      "text/plain": [
       "36"
      ]
     },
     "execution_count": 11,
     "metadata": {},
     "output_type": "execute_result"
    }
   ],
   "source": [
    "file = open(\"FULL_DNNTestes.txt\",'a+')\n",
    "file.write(\"Teste_ com \"+str(Epoch)+\" epocas e \"+str(Batch)+\" de batch: \\n\")\n",
    "#file.write(\"Tempo de Retirada de caracteristicas: \"+str((1.0*fim_feat)/len(Y_test))+'\\n')\n",
    "#file.write(\"Tempo de Retirada de caracteristicas (adj): \"+str(fim_feat)+'\\n')\n",
    "file.write(\"Tempo de Treino: \"+str(fim_train)+'\\n')"
   ]
  },
  {
   "cell_type": "code",
   "execution_count": 12,
   "metadata": {},
   "outputs": [
    {
     "data": {
      "image/png": "[encoded data removed]",
      "text/plain": [
       "<Figure size 864x576 with 1 Axes>"
      ]
     },
     "metadata": {
      "needs_background": "light"
     },
     "output_type": "display_data"
    }
   ],
   "source": [
    "# Check out our train accuracy and validation accuracy over epochs.\n",
    "train_accuracy = history.history['accuracy']\n",
    "val_accuracy = history.history['val_accuracy']# Set figure size.\n",
    "plt.figure(figsize=(12, 8))# Generate line plot of training, testing loss over epochs.\n",
    "plt.plot(train_accuracy, label='Training Accuracy', color='#185fad')\n",
    "plt.plot(val_accuracy, label='Validation Accuracy', color='orange')# Set title\n",
    "plt.title('Training and Validation Accuracy by Epoch', fontsize = 25)\n",
    "plt.xlabel('Epoch', fontsize = 18)\n",
    "plt.ylabel('Categorical Crossentropy', fontsize = 18)\n",
    "plt.xticks(range(0,int(Epoch),int(Epoch/20)), range(0,int(Epoch),int(Epoch/20)))\n",
    "plt.legend(fontsize = 18);\n",
    "plt.show()"
   ]
  },
  {
   "cell_type": "code",
   "execution_count": 13,
   "metadata": {},
   "outputs": [],
   "source": [
    "ini_test = time.time()\n",
    "predictions = np.argmax(model.predict(X_test), axis=-1)\n",
    "predictions = lb.inverse_transform(predictions)\n",
    "test_predict = predictions\n",
    "fim_test = time.time() - ini_test"
   ]
  },
  {
   "cell_type": "code",
   "execution_count": 14,
   "metadata": {},
   "outputs": [
    {
     "data": {
      "text/plain": [
       "41"
      ]
     },
     "execution_count": 14,
     "metadata": {},
     "output_type": "execute_result"
    }
   ],
   "source": [
    "file.write(\"Tempo de Teste: \"+str((1.0*fim_test)/len(Y_test))+'\\n')\n",
    "file.write(\"Tempo de Teste (adj): \"+str(fim_test)+'\\n')"
   ]
  },
  {
   "cell_type": "code",
   "execution_count": 15,
   "metadata": {},
   "outputs": [
    {
     "name": "stdout",
     "output_type": "stream",
     "text": [
      "A porcentagem de acerto é de : 34.717937417364475%\n"
     ]
    }
   ],
   "source": [
    "correct_predict = 0.0\n",
    "for i in range(0,len(Y_test)):\n",
    "    if str(test_predict[i]) != 'NaN' and int(test_predict[i]) == int(Y_test[i]):\n",
    "        correct_predict += 1\n",
    "print(\"A porcentagem de acerto é de : \"+str((correct_predict*100)/len(Y_test))+\"%\")"
   ]
  },
  {
   "cell_type": "code",
   "execution_count": 16,
   "metadata": {},
   "outputs": [],
   "source": [
    "file.write(\"Porcentagem de acerto: \"+str((correct_predict*100)/len(Y_test))+\"%\\n\")\n",
    "file.write('##########\\n')\n",
    "file.close()"
   ]
  },
  {
   "cell_type": "code",
   "execution_count": null,
   "metadata": {},
   "outputs": [],
   "source": [
    "#file = open(\"FULL_DNN_Confusion_matrix.txt\",'a+')\n",
    "#file.write(\"Usando_: Batch = \"+str(Batch)+\" | Epochs = \"+str(Epoch)+'\\n')\n",
    "#for i in ConfMat:\n",
    "#    file.write(str(i)+'\\n')\n",
    "#file.close()"
   ]
  },
  {
   "cell_type": "code",
   "execution_count": null,
   "metadata": {},
   "outputs": [],
   "source": []
  },
  {
   "cell_type": "code",
   "execution_count": null,
   "metadata": {},
   "outputs": [],
   "source": []
  },
  {
   "cell_type": "code",
   "execution_count": null,
   "metadata": {},
   "outputs": [],
   "source": []
  }
 ],
 "metadata": {
  "kernelspec": {
   "display_name": "tensorflow-dev",
   "language": "python",
   "name": "tensorflow-dev"
  },
  "language_info": {
   "codemirror_mode": {
    "name": "ipython",
    "version": 3
   },
   "file_extension": ".py",
   "mimetype": "text/x-python",
   "name": "python",
   "nbconvert_exporter": "python",
   "pygments_lexer": "ipython3",
   "version": "3.8.9"
  }
 },
 "nbformat": 4,
 "nbformat_minor": 4
}
