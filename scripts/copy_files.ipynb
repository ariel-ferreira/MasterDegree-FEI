{
 "cells": [
  {
   "cell_type": "code",
   "execution_count": 1,
   "metadata": {},
   "outputs": [],
   "source": [
    "import os\n",
    "import shutil"
   ]
  },
  {
   "cell_type": "code",
   "execution_count": null,
   "metadata": {},
   "outputs": [],
   "source": [
    "PATH_from = '/home/ferreiraa/Documents/Mestrado/agender_distribution/wav_traindevel'\n",
    "PATH_to = '/home/ferreiraa/Documents/Mestrado/agender_distribution/feature_files'"
   ]
  },
  {
   "cell_type": "code",
   "execution_count": 2,
   "metadata": {},
   "outputs": [
    {
     "name": "stdout",
     "output_type": "stream",
     "text": [
      " /home/ferreiraa/Documents/Mestrado/agender_distribution/wav_traindevel\n",
      " /home/ferreiraa/Documents/Mestrado/agender_distribution/feature_files\n"
     ]
    }
   ],
   "source": [
    "source_folder = input()\n",
    "#this code takes in the file path of our source folder\n",
    "destination_folder = input()\n",
    "#this code takes in the file path of our destination folder"
   ]
  },
  {
   "cell_type": "code",
   "execution_count": 3,
   "metadata": {},
   "outputs": [
    {
     "name": "stdout",
     "output_type": "stream",
     "text": [
      " .npy\n"
     ]
    }
   ],
   "source": [
    "extension = input()"
   ]
  },
  {
   "cell_type": "code",
   "execution_count": 11,
   "metadata": {},
   "outputs": [],
   "source": [
    "a = 0\n",
    "for folders, subfolders, filenames in os.walk(source_folder):\n",
    "    for filename in filenames:\n",
    "        if filename.endswith('{}'.format(extension)):\n",
    "            shutil.copy(os.path.join(folders, filename), destination_folder); \n",
    "            #file = open(\"files_on_code.txt\", 'a+')\n",
    "            #file.write(filename + '\\n')\n",
    "            #file.close()"
   ]
  },
  {
   "cell_type": "code",
   "execution_count": 12,
   "metadata": {},
   "outputs": [],
   "source": [
    "d = os.path.join(folders, filename)"
   ]
  },
  {
   "cell_type": "code",
   "execution_count": 13,
   "metadata": {},
   "outputs": [
    {
     "data": {
      "text/plain": [
       "'/home/ferreiraa/Documents/Mestrado/agender_distribution/wav_traindevel/1417/2/a11417s18.raw'"
      ]
     },
     "execution_count": 13,
     "metadata": {},
     "output_type": "execute_result"
    }
   ],
   "source": [
    "d"
   ]
  },
  {
   "cell_type": "code",
   "execution_count": null,
   "metadata": {},
   "outputs": [],
   "source": [
    "import os\n",
    "import shutil\n",
    "\n",
    "src = r'C:\\TEMP\\dir'\n",
    "dest = r'C:\\TEMP\\new'\n",
    "\n",
    "for path, subdirs, files in os.walk(src):\n",
    "    for name in files:\n",
    "        filename = os.path.join(path, name)\n",
    "        shutil.copy2(filename, dest)"
   ]
  },
  {
   "cell_type": "code",
   "execution_count": null,
   "metadata": {},
   "outputs": [],
   "source": []
  },
  {
   "cell_type": "code",
   "execution_count": null,
   "metadata": {},
   "outputs": [],
   "source": []
  }
 ],
 "metadata": {
  "kernelspec": {
   "display_name": "Python 3.10.5 ('conv1d-venv')",
   "language": "python",
   "name": "python3"
  },
  "language_info": {
   "codemirror_mode": {
    "name": "ipython",
    "version": 3
   },
   "file_extension": ".py",
   "mimetype": "text/x-python",
   "name": "python",
   "nbconvert_exporter": "python",
   "pygments_lexer": "ipython3",
   "version": "3.10.5"
  },
  "vscode": {
   "interpreter": {
    "hash": "04cedfdd4aaeb3a14b7313c5139a1493a34cd254dccc2367acd55268f3eb1701"
   }
  }
 },
 "nbformat": 4,
 "nbformat_minor": 4
}
