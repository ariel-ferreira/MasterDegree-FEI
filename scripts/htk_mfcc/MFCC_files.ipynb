{
 "cells": [
  {
   "cell_type": "code",
   "execution_count": 1,
   "id": "8c4b2980-f345-4436-9783-494aafd7018f",
   "metadata": {},
   "outputs": [],
   "source": [
    "import os\n",
    "import pandas as pd\n",
    "import numpy as np\n",
    "import re\n",
    "import csv"
   ]
  },
  {
   "cell_type": "code",
   "execution_count": 2,
   "id": "3fc82620-0a79-4e73-865b-ff029538cc80",
   "metadata": {},
   "outputs": [],
   "source": [
    "def raw2mfc(DIR, files):\n",
    "    raw_audio_list = [(DIR + files[j]) for j in range(len(files))]\n",
    "    mfc_audio_list = [(DIR + (re.sub(r'.raw', '.mfc', files[i]))) for i in range(len(files))]\n",
    "    return mfc_audio_list"
   ]
  },
  {
   "cell_type": "code",
   "execution_count": 3,
   "id": "ec73cf98-7d56-4ad8-adc1-6bf4172fd0de",
   "metadata": {},
   "outputs": [],
   "source": [
    "def mfc2csv(files):\n",
    "    mfc_audio_list = [(files[j]) for j in range(len(files))]\n",
    "    csv_audio_list = [(re.sub(r'.mfc', '.mfc.csv', files[i])) for i in range(len(files))]\n",
    "    for x in range(len(mfc_audio_list)):\n",
    "        fin = mfc_audio_list[x]\n",
    "        fout = csv_audio_list[x]\n",
    "        fin_tmp = mfc_audio_list[x]+'.tmp'\n",
    "        htk_command = 'HList -r '\n",
    "        htk_output = htk_command + fin +' > '+ fin_tmp\n",
    "        _ = os.system(htk_output)\n",
    "        with open(fin_tmp, 'r') as f:\n",
    "            text = f.readlines()\n",
    "            regex1 = '\\n'\n",
    "            regex2 = '\\s$'\n",
    "            regex3 = '.+.\\d+e\\W\\d+'\n",
    "            for line in text:\n",
    "                line = re.sub(regex1,'',line)\n",
    "                line = re.sub(regex2,'',line)\n",
    "            coef_list_pos = []\n",
    "            for line in text:\n",
    "                coef_list_tmp = re.findall(regex3, line)\n",
    "                coef_list_pos.append(coef_list_tmp)\n",
    "            coef_df = pd.DataFrame(coef_list_pos)\n",
    "            coef_df.to_csv(fout, sep = ';', header = False, index=False)\n",
    "    return None"
   ]
  },
  {
   "cell_type": "code",
   "execution_count": 4,
   "id": "507d494b-8031-4183-a086-7b0135f690b9",
   "metadata": {},
   "outputs": [],
   "source": [
    "DIR = os.path.join(os.path.expanduser(\"~\"),'dataSet/audio/agender_distribution/')\n",
    "train_file_txt = 'trainSampleList_train.txt'\n",
    "devel_file_txt = 'trainSampleList_devel.txt'"
   ]
  },
  {
   "cell_type": "code",
   "execution_count": 5,
   "id": "5d42ede2-a1ab-4c11-880e-f93f22b0e44d",
   "metadata": {},
   "outputs": [],
   "source": [
    "file_tr = pd.read_table(str(DIR + train_file_txt), delimiter=' ', header=None)\n",
    "raw_file_TRlist = file_tr[0]\n",
    "file_dev = pd.read_table(str(DIR + devel_file_txt), delimiter=' ', header=None)\n",
    "raw_file_DEVlist = file_dev[0]\n",
    "mfc_file_TRlist = raw2mfc(DIR, raw_file_TRlist)\n",
    "mfc_file_DEVlist = raw2mfc(DIR, raw_file_DEVlist)"
   ]
  },
  {
   "cell_type": "code",
   "execution_count": 6,
   "id": "be638f9d-9493-4b1e-bf59-c69f0874b0a8",
   "metadata": {},
   "outputs": [],
   "source": [
    "mfc2csv(mfc_file_TRlist)"
   ]
  },
  {
   "cell_type": "code",
   "execution_count": 7,
   "id": "7825e3b8-7022-4d86-a4e8-c5db551a9bc4",
   "metadata": {},
   "outputs": [],
   "source": [
    "mfc2csv(mfc_file_DEVlist)"
   ]
  },
  {
   "cell_type": "code",
   "execution_count": null,
   "id": "b5ef4090-1cef-479c-809d-7d3e2aa340e2",
   "metadata": {},
   "outputs": [],
   "source": []
  },
  {
   "cell_type": "code",
   "execution_count": null,
   "id": "59d68160-47ff-4eff-8023-f5db701059e5",
   "metadata": {},
   "outputs": [],
   "source": []
  }
 ],
 "metadata": {
  "kernelspec": {
   "display_name": "Python 3 (ipykernel)",
   "language": "python",
   "name": "python3"
  },
  "language_info": {
   "codemirror_mode": {
    "name": "ipython",
    "version": 3
   },
   "file_extension": ".py",
   "mimetype": "text/x-python",
   "name": "python",
   "nbconvert_exporter": "python",
   "pygments_lexer": "ipython3",
   "version": "3.10.4"
  }
 },
 "nbformat": 4,
 "nbformat_minor": 5
}
