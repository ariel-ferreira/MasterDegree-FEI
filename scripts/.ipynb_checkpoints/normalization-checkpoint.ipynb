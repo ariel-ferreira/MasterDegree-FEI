{
 "cells": [
  {
   "cell_type": "code",
   "execution_count": 1,
   "id": "b10d859c-6f9f-480e-a847-8d137a759632",
   "metadata": {},
   "outputs": [],
   "source": [
    "import os\n",
    "import pandas as pd\n",
    "import re\n",
    "import numpy as np\n",
    "import matplotlib.pyplot as plt"
   ]
  },
  {
   "cell_type": "code",
   "execution_count": 2,
   "id": "9a47ecf0-d096-4f6c-99f3-9365f3200e0b",
   "metadata": {},
   "outputs": [],
   "source": [
    "def csv_list(DIR, files):\n",
    "    raw_audio_list = [(DIR + files[j]) for j in range(len(files))]\n",
    "    csv_list = [(DIR + (re.sub(r'.raw', '.mfc.csv', files[i]))) for i in range(len(files))]\n",
    "    return csv_list"
   ]
  },
  {
   "cell_type": "code",
   "execution_count": 3,
   "id": "756555f0-477a-498a-9fb9-85ebab978236",
   "metadata": {},
   "outputs": [],
   "source": [
    "def ReadCSV(file):\n",
    "    fin = file\n",
    "    fout = pd.read_csv(fin, header=None)\n",
    "    return fout"
   ]
  },
  {
   "cell_type": "code",
   "execution_count": 4,
   "id": "c0472e51-90a2-4789-8f32-af2eaba74fb0",
   "metadata": {},
   "outputs": [],
   "source": [
    "def NumberVectors(file_list):\n",
    "    min_sample = 0\n",
    "    c = 0\n",
    "    list_vec_qtd = []\n",
    "    for i in range(len(file_list)):\n",
    "        file = file_list[i]\n",
    "        df = ReadCSV(file)\n",
    "        c += 1\n",
    "        num_vectors = len(df.index)\n",
    "        num_samples = num_vectors\n",
    "        list_vec_qtd.append(num_vectors)\n",
    "        if min_sample == 0:\n",
    "            min_sample = num_samples\n",
    "        elif num_samples < min_sample:\n",
    "            min_sample = num_samples\n",
    "            min_file = file_list[i]\n",
    "        else:\n",
    "            None\n",
    "    return (min_sample, min_file, c, list_vec_qtd)"
   ]
  },
  {
   "cell_type": "code",
   "execution_count": null,
   "id": "8aa6bd81-5334-41f9-9837-d2638c7c7ae2",
   "metadata": {},
   "outputs": [],
   "source": [
    "def counterVec(file_list):\n",
    "    list_vec_qtd = []\n",
    "    for i in range(len(file_list)):\n",
    "        file = file_list[i]\n",
    "        df = ReadCSV(file)\n",
    "        num_vectors = len(df.index)\n",
    "        list_vec_qtd.append(num_vectors)\n",
    "    return(list_vec_qtd)"
   ]
  },
  {
   "cell_type": "code",
   "execution_count": 5,
   "id": "9e225609-8d08-4593-afd8-981aa0d10f1e",
   "metadata": {},
   "outputs": [],
   "source": [
    "DIR = os.path.join(os.path.expanduser(\"~\"),'dataSet/audio/agender_distribution/')\n",
    "train_file_txt = 'trainSampleList_train.txt'\n",
    "devel_file_txt = 'trainSampleList_devel.txt'\n",
    "file_tr = pd.read_table(str(DIR + train_file_txt), delimiter=' ', header=None)\n",
    "raw_file_TRlist = file_tr[0]\n",
    "file_dev = pd.read_table(str(DIR + devel_file_txt), delimiter=' ', header=None)\n",
    "raw_file_DEVlist = file_dev[0]"
   ]
  },
  {
   "cell_type": "code",
   "execution_count": 6,
   "id": "1cea1639-44e8-4c88-910c-a4a689929df7",
   "metadata": {},
   "outputs": [],
   "source": [
    "csv_list_train = csv_list(DIR, raw_file_TRlist)\n",
    "csv_list_dev = csv_list(DIR, raw_file_DEVlist)"
   ]
  },
  {
   "cell_type": "code",
   "execution_count": 7,
   "id": "645130ab-0c3d-44b3-a60f-499fa0583276",
   "metadata": {},
   "outputs": [],
   "source": [
    "min_sample_train, min_file_train, counter_check_train, list_vec_qtd_train = NumberVectors(csv_list_train)"
   ]
  },
  {
   "cell_type": "code",
   "execution_count": 8,
   "id": "a96ae1b9-10f4-4511-b4c9-403a454389e4",
   "metadata": {},
   "outputs": [
    {
     "data": {
      "text/plain": [
       "(27,\n",
       " '/home/arielferreira/dataSet/audio/agender_distribution/wav_traindevel/1479/2/a11479s14.mfc.csv',\n",
       " 32527,\n",
       " [396, 156, 184, 152, 151, 192, 312, 377, 404, 220])"
      ]
     },
     "execution_count": 8,
     "metadata": {},
     "output_type": "execute_result"
    }
   ],
   "source": [
    "min_sample_train, min_file_train, counter_check_train, list_vec_qtd_train[:10]"
   ]
  },
  {
   "cell_type": "code",
   "execution_count": 9,
   "id": "c3a4aa88-ede1-4d15-888c-03024f478c8f",
   "metadata": {},
   "outputs": [],
   "source": [
    "min_sample_dev, min_file_dev, counter_check_dev, list_vec_qtd_dev = NumberVectors(csv_list_dev)"
   ]
  },
  {
   "cell_type": "code",
   "execution_count": 10,
   "id": "092c1cdf-0542-4dfc-aa9d-3a83fdb747ec",
   "metadata": {},
   "outputs": [
    {
     "data": {
      "text/plain": [
       "(97,\n",
       " '/home/arielferreira/dataSet/audio/agender_distribution/wav_traindevel/1807/3/a11807s11.mfc.csv',\n",
       " 20549,\n",
       " [162, 369, 243, 325, 287, 319, 175, 217, 157, 163])"
      ]
     },
     "execution_count": 10,
     "metadata": {},
     "output_type": "execute_result"
    }
   ],
   "source": [
    "min_sample_dev, min_file_dev, counter_check_dev, list_vec_qtd_dev[:10]"
   ]
  },
  {
   "cell_type": "code",
   "execution_count": 11,
   "id": "bae67919-5c9a-4315-bc08-423596aa9f36",
   "metadata": {},
   "outputs": [],
   "source": [
    "SampleListDataFrame_train = pd.DataFrame(list(zip(csv_list_train, list_vec_qtd_train)), columns=['Train Files', 'Qtd. of Vectors'])"
   ]
  },
  {
   "cell_type": "code",
   "execution_count": 12,
   "id": "a71217ef-3c7e-4478-abc2-c85598ef936b",
   "metadata": {},
   "outputs": [],
   "source": [
    "SampleListDataFrame_dev = pd.DataFrame(list(zip(csv_list_dev, list_vec_qtd_dev)), columns=['Dev Files', 'Qtd. of Vectors'])"
   ]
  },
  {
   "cell_type": "code",
   "execution_count": 13,
   "id": "fa63af09-83a3-476d-b111-55be12e82300",
   "metadata": {},
   "outputs": [
    {
     "data": {
      "text/html": [
       "<div>\n",
       "<style scoped>\n",
       "    .dataframe tbody tr th:only-of-type {\n",
       "        vertical-align: middle;\n",
       "    }\n",
       "\n",
       "    .dataframe tbody tr th {\n",
       "        vertical-align: top;\n",
       "    }\n",
       "\n",
       "    .dataframe thead th {\n",
       "        text-align: right;\n",
       "    }\n",
       "</style>\n",
       "<table border=\"1\" class=\"dataframe\">\n",
       "  <thead>\n",
       "    <tr style=\"text-align: right;\">\n",
       "      <th></th>\n",
       "      <th>Train Files</th>\n",
       "      <th>Qtd. of Vectors</th>\n",
       "    </tr>\n",
       "  </thead>\n",
       "  <tbody>\n",
       "    <tr>\n",
       "      <th>0</th>\n",
       "      <td>/home/arielferreira/dataSet/audio/agender_dist...</td>\n",
       "      <td>396</td>\n",
       "    </tr>\n",
       "    <tr>\n",
       "      <th>1</th>\n",
       "      <td>/home/arielferreira/dataSet/audio/agender_dist...</td>\n",
       "      <td>156</td>\n",
       "    </tr>\n",
       "    <tr>\n",
       "      <th>2</th>\n",
       "      <td>/home/arielferreira/dataSet/audio/agender_dist...</td>\n",
       "      <td>184</td>\n",
       "    </tr>\n",
       "    <tr>\n",
       "      <th>3</th>\n",
       "      <td>/home/arielferreira/dataSet/audio/agender_dist...</td>\n",
       "      <td>152</td>\n",
       "    </tr>\n",
       "    <tr>\n",
       "      <th>4</th>\n",
       "      <td>/home/arielferreira/dataSet/audio/agender_dist...</td>\n",
       "      <td>151</td>\n",
       "    </tr>\n",
       "    <tr>\n",
       "      <th>5</th>\n",
       "      <td>/home/arielferreira/dataSet/audio/agender_dist...</td>\n",
       "      <td>192</td>\n",
       "    </tr>\n",
       "    <tr>\n",
       "      <th>6</th>\n",
       "      <td>/home/arielferreira/dataSet/audio/agender_dist...</td>\n",
       "      <td>312</td>\n",
       "    </tr>\n",
       "    <tr>\n",
       "      <th>7</th>\n",
       "      <td>/home/arielferreira/dataSet/audio/agender_dist...</td>\n",
       "      <td>377</td>\n",
       "    </tr>\n",
       "    <tr>\n",
       "      <th>8</th>\n",
       "      <td>/home/arielferreira/dataSet/audio/agender_dist...</td>\n",
       "      <td>404</td>\n",
       "    </tr>\n",
       "    <tr>\n",
       "      <th>9</th>\n",
       "      <td>/home/arielferreira/dataSet/audio/agender_dist...</td>\n",
       "      <td>220</td>\n",
       "    </tr>\n",
       "  </tbody>\n",
       "</table>\n",
       "</div>"
      ],
      "text/plain": [
       "                                         Train Files  Qtd. of Vectors\n",
       "0  /home/arielferreira/dataSet/audio/agender_dist...              396\n",
       "1  /home/arielferreira/dataSet/audio/agender_dist...              156\n",
       "2  /home/arielferreira/dataSet/audio/agender_dist...              184\n",
       "3  /home/arielferreira/dataSet/audio/agender_dist...              152\n",
       "4  /home/arielferreira/dataSet/audio/agender_dist...              151\n",
       "5  /home/arielferreira/dataSet/audio/agender_dist...              192\n",
       "6  /home/arielferreira/dataSet/audio/agender_dist...              312\n",
       "7  /home/arielferreira/dataSet/audio/agender_dist...              377\n",
       "8  /home/arielferreira/dataSet/audio/agender_dist...              404\n",
       "9  /home/arielferreira/dataSet/audio/agender_dist...              220"
      ]
     },
     "execution_count": 13,
     "metadata": {},
     "output_type": "execute_result"
    }
   ],
   "source": [
    "SampleListDataFrame_train[:10]"
   ]
  },
  {
   "cell_type": "code",
   "execution_count": 14,
   "id": "ed7ce29d-8851-4803-8a12-6bfca360c7ef",
   "metadata": {},
   "outputs": [
    {
     "data": {
      "text/plain": [
       "179    594\n",
       "169    571\n",
       "189    563\n",
       "180    551\n",
       "190    540\n",
       "      ... \n",
       "832      1\n",
       "703      1\n",
       "644      1\n",
       "852      1\n",
       "642      1\n",
       "Name: Qtd. of Vectors, Length: 713, dtype: int64"
      ]
     },
     "execution_count": 14,
     "metadata": {},
     "output_type": "execute_result"
    }
   ],
   "source": [
    "#SampleListDataFrame_train['Qtd. of Vectors'].value_counts(normalize=True)\n",
    "SampleListDataFrame_train['Qtd. of Vectors'].value_counts()"
   ]
  },
  {
   "cell_type": "code",
   "execution_count": 15,
   "id": "3cccc2e5-07c5-4e6e-80c1-6de35816045d",
   "metadata": {},
   "outputs": [
    {
     "data": {
      "text/plain": [
       "190     373\n",
       "169     359\n",
       "179     355\n",
       "189     347\n",
       "180     346\n",
       "       ... \n",
       "606       1\n",
       "134       1\n",
       "750       1\n",
       "700       1\n",
       "1118      1\n",
       "Name: Qtd. of Vectors, Length: 647, dtype: int64"
      ]
     },
     "execution_count": 15,
     "metadata": {},
     "output_type": "execute_result"
    }
   ],
   "source": [
    "SampleListDataFrame_dev['Qtd. of Vectors'].value_counts()"
   ]
  },
  {
   "cell_type": "code",
   "execution_count": null,
   "id": "d902bc03-6553-49f8-947c-cb492cbe9a8b",
   "metadata": {},
   "outputs": [],
   "source": [
    "counter = pd.DataFrame(counter)"
   ]
  },
  {
   "cell_type": "code",
   "execution_count": null,
   "id": "c1c0d307-a20d-4465-98a8-16068e2a80de",
   "metadata": {},
   "outputs": [],
   "source": [
    "counter"
   ]
  },
  {
   "cell_type": "code",
   "execution_count": null,
   "id": "57035a9b-6386-4de1-b668-97a58472a105",
   "metadata": {},
   "outputs": [],
   "source": [
    "counter.to_csv('counter.csv')"
   ]
  },
  {
   "cell_type": "code",
   "execution_count": null,
   "id": "cb9839e7-d6f1-4210-ba86-0c99653d5d1a",
   "metadata": {},
   "outputs": [],
   "source": [
    "excel = pd.read_excel('counter.xlsx')"
   ]
  },
  {
   "cell_type": "code",
   "execution_count": null,
   "id": "02fa560f-5cea-48d4-b481-b1add763e06c",
   "metadata": {},
   "outputs": [],
   "source": [
    "excel"
   ]
  },
  {
   "cell_type": "code",
   "execution_count": null,
   "id": "7b613f03-9e8e-4fad-ad10-941f4ae69d66",
   "metadata": {},
   "outputs": [],
   "source": [
    "#excel.plot.hist(column=[\"Count\"], by=[\"Qtd. of Vectors\"])"
   ]
  },
  {
   "cell_type": "code",
   "execution_count": null,
   "id": "796819f0-42a5-46fa-b246-dfec0349db1d",
   "metadata": {},
   "outputs": [],
   "source": [
    "len(list(SampleListDataFrame_dev['Qtd. of Vectors'].unique())), len(list(SampleListDataFrame_train['Qtd. of Vectors'].unique()))"
   ]
  },
  {
   "cell_type": "code",
   "execution_count": null,
   "id": "15d895c2-86a6-4d95-bbbf-2aac8338a01f",
   "metadata": {},
   "outputs": [],
   "source": [
    "plt.rcParams['figure.figsize'] = (20.0, 5.0)"
   ]
  },
  {
   "cell_type": "code",
   "execution_count": null,
   "id": "84e13e1e-0949-4857-a9f4-b9d1d9a5676d",
   "metadata": {},
   "outputs": [],
   "source": [
    "#excel.hist(column='Qtd. of Vectors', by='Count', bins = 647)"
   ]
  },
  {
   "cell_type": "code",
   "execution_count": null,
   "id": "0df7d450-b9aa-446e-9c72-22d1b4ae5150",
   "metadata": {},
   "outputs": [],
   "source": []
  },
  {
   "cell_type": "code",
   "execution_count": null,
   "id": "16b2b17f-53f7-429e-b22e-8cc25339ce34",
   "metadata": {},
   "outputs": [],
   "source": [
    "y = SampleListDataFrame_train['Qtd. of Vectors'].value_counts(normalize=True)"
   ]
  },
  {
   "cell_type": "code",
   "execution_count": null,
   "id": "94489466-7af5-43ef-9d32-00be164cd527",
   "metadata": {},
   "outputs": [],
   "source": [
    "#plot = pd.DataFrame.plot.pie(y=SampleListDataFrame_train['Qtd. of Vectors'].value_counts(normalize=True), figsize=(5, 5))"
   ]
  },
  {
   "cell_type": "code",
   "execution_count": null,
   "id": "5cd456c9-bea9-4908-8639-6dc2ffa3e841",
   "metadata": {},
   "outputs": [],
   "source": [
    "SampleListDataFrame_train.groupby(['TYPE']).sum().plot(kind='pie', y='SALES', shadow = True)"
   ]
  }
 ],
 "metadata": {
  "kernelspec": {
   "display_name": "Python 3 (ipykernel)",
   "language": "python",
   "name": "python3"
  },
  "language_info": {
   "codemirror_mode": {
    "name": "ipython",
    "version": 3
   },
   "file_extension": ".py",
   "mimetype": "text/x-python",
   "name": "python",
   "nbconvert_exporter": "python",
   "pygments_lexer": "ipython3",
   "version": "3.10.4"
  }
 },
 "nbformat": 4,
 "nbformat_minor": 5
}
