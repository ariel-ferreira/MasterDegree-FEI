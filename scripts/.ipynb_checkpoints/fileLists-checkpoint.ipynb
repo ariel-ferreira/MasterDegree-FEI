{
 "cells": [
  {
   "cell_type": "code",
   "execution_count": 30,
   "id": "5e517e3f-a237-4843-97b4-cbd3f9fc4859",
   "metadata": {},
   "outputs": [],
   "source": [
    "import pandas as pd\n",
    "import csv\n",
    "import os\n",
    "import re"
   ]
  },
  {
   "cell_type": "code",
   "execution_count": 24,
   "id": "27667167-6586-48de-9f0f-0b19a1bf846b",
   "metadata": {},
   "outputs": [],
   "source": [
    "DIR = os.path.join(os.path.expanduser(\"~\"),'dataSet/audio/agender_distribution/')"
   ]
  },
  {
   "cell_type": "code",
   "execution_count": 25,
   "id": "4b6e4525-bf00-477e-aa00-688b49f53cfe",
   "metadata": {},
   "outputs": [],
   "source": [
    "def csv_list(DIR, files):\n",
    "    raw_audio_list = [(DIR + files[j]) for j in range(len(files))]\n",
    "    csv_list = [(DIR + (re.sub(r'.raw', '.mfc.csv', files[i]))) for i in range(len(files))]\n",
    "    return csv_list"
   ]
  },
  {
   "cell_type": "code",
   "execution_count": 33,
   "id": "55e6d43e-1de4-4e87-b6e5-04baf7eeddb4",
   "metadata": {},
   "outputs": [],
   "source": [
    "def ReadCSV(file):\n",
    "    fin = file\n",
    "    fout = pd.read_csv(fin, header=None)\n",
    "    return fout"
   ]
  },
  {
   "cell_type": "code",
   "execution_count": 26,
   "id": "3319e916-b663-4030-b5e4-214423a52c7b",
   "metadata": {},
   "outputs": [],
   "source": [
    "def NumberVectors(file_list):\n",
    "    min_sample = 0\n",
    "    c = 0\n",
    "    list_vec_qtd = []\n",
    "    for i in range(len(file_list)):\n",
    "        file = file_list[i]\n",
    "        df = ReadCSV(file)\n",
    "        c += 1\n",
    "        num_vectors = len(df.index)\n",
    "        num_samples = num_vectors\n",
    "        list_vec_qtd.append(num_vectors)\n",
    "        if min_sample == 0:\n",
    "            min_sample = num_samples\n",
    "        elif num_samples < min_sample:\n",
    "            min_sample = num_samples\n",
    "            min_file = file_list[i]\n",
    "        else:\n",
    "            None\n",
    "    return (min_sample, c, list_vec_qtd)"
   ]
  },
  {
   "cell_type": "code",
   "execution_count": 27,
   "id": "853d393a-c646-41fb-8386-621f29c57c06",
   "metadata": {},
   "outputs": [],
   "source": [
    "train_file_csv_full = 'trainSampleList_train.csv'\n",
    "devel_file_csv_full = 'trainSampleList_devel.csv'\n",
    "train_file_df_full = pd.read_csv(str(DIR + train_file_csv_full), delimiter=',', header=0)\n",
    "devel_file_df_full = pd.read_csv(str(DIR + devel_file_csv_full), delimiter=',', header=0)"
   ]
  },
  {
   "cell_type": "code",
   "execution_count": 28,
   "id": "1b24945c-6cac-4df6-adfe-ce43650d3503",
   "metadata": {},
   "outputs": [],
   "source": [
    "train_file_txt = 'trainSampleList_train.txt'\n",
    "devel_file_txt = 'trainSampleList_devel.txt'\n",
    "train_file_df = pd.read_table(str(DIR + train_file_txt), delimiter=' ', header=None)\n",
    "train_file_raw = train_file_df[0]\n",
    "devel_file_df = pd.read_table(str(DIR + devel_file_txt), delimiter=' ', header=None)\n",
    "devel_file_raw = devel_file_df[0]"
   ]
  },
  {
   "cell_type": "code",
   "execution_count": 31,
   "id": "0968b17a-617b-4ad2-b6d2-339de986df4b",
   "metadata": {},
   "outputs": [],
   "source": [
    "csv_list_train = csv_list(DIR, train_file_raw)\n",
    "csv_list_dev = csv_list(DIR, devel_file_raw)"
   ]
  },
  {
   "cell_type": "code",
   "execution_count": 34,
   "id": "6900adf9-b947-4962-989a-31326d8ff182",
   "metadata": {},
   "outputs": [
    {
     "data": {
      "text/plain": [
       "(97, 20549)"
      ]
     },
     "execution_count": 34,
     "metadata": {},
     "output_type": "execute_result"
    }
   ],
   "source": [
    "min_sample_train, counter_check_train, list_vec_qtd_train = NumberVectors(csv_list_train)\n",
    "min_sample_dev, counter_check_dev, list_vec_qtd_dev = NumberVectors(csv_list_dev)\n",
    "min_sample_dev, counter_check_dev, min_sample_train, counter_check_train"
   ]
  },
  {
   "cell_type": "code",
   "execution_count": 35,
   "id": "19cf2403-0961-42a0-b5d2-c5908049b09d",
   "metadata": {},
   "outputs": [],
   "source": [
    "SampleListDataFrame_train = pd.DataFrame(list(zip(csv_list_train, list_vec_qtd_train)), columns=['Train Files', 'Qtd. of Vectors'])\n",
    "SampleListDataFrame_dev = pd.DataFrame(list(zip(csv_list_dev, list_vec_qtd_dev)), columns=['Dev Files', 'Qtd. of Vectors'])\n",
    "counter_train = SampleListDataFrame_train['Qtd. of Vectors'].value_counts()\n",
    "counter_train = counter_train.to_frame('qtd')\n",
    "counter_dev = SampleListDataFrame_dev['Qtd. of Vectors'].value_counts()\n",
    "counter_dev = counter_dev.to_frame('qtd')"
   ]
  },
  {
   "cell_type": "code",
   "execution_count": 36,
   "id": "f5279314-6d64-48d4-ad20-44da5a109987",
   "metadata": {},
   "outputs": [
    {
     "data": {
      "text/plain": [
       "28430"
      ]
     },
     "execution_count": 36,
     "metadata": {},
     "output_type": "execute_result"
    }
   ],
   "source": [
    "threshold_train = 169\n",
    "files_to_use_train = 0\n",
    "for k in range(len(counter_train)):\n",
    "    row_index = counter_train.index[k]\n",
    "    row_value = counter_train.iat[k, 0]\n",
    "    if row_index >= threshold_train:\n",
    "        files_to_use_train = files_to_use_train + row_value\n",
    "files_to_use_train"
   ]
  },
  {
   "cell_type": "code",
   "execution_count": 37,
   "id": "08a67abb-13a4-490e-bfa9-3ac607ee1ede",
   "metadata": {},
   "outputs": [
    {
     "data": {
      "text/plain": [
       "17939"
      ]
     },
     "execution_count": 37,
     "metadata": {},
     "output_type": "execute_result"
    }
   ],
   "source": [
    "threshold_dev = 169\n",
    "files_to_use_dev = 0\n",
    "for k in range(len(counter_dev)):\n",
    "    row_index = counter_dev.index[k]\n",
    "    row_value = counter_dev.iat[k, 0]\n",
    "    if row_index >= threshold_dev:\n",
    "        files_to_use_dev = files_to_use_dev + row_value\n",
    "files_to_use_dev"
   ]
  },
  {
   "cell_type": "code",
   "execution_count": 89,
   "id": "9c537460-443f-4269-b2cd-5b5c578c7d52",
   "metadata": {},
   "outputs": [],
   "source": [
    "train_csv_use = []\n",
    "train_not_used = []\n",
    "for i in range(len(SampleListDataFrame_train.index)):\n",
    "    train_vectors = SampleListDataFrame_train.iat[i,1]\n",
    "    if train_vectors >= threshold_train:\n",
    "        train_csv_use.append(SampleListDataFrame_train.iat[i,0])\n",
    "    else:\n",
    "        train_not_used.append(SampleListDataFrame_train.iat[i,0])"
   ]
  },
  {
   "cell_type": "code",
   "execution_count": 91,
   "id": "b786e1b6-57c6-4ed9-bc84-018b29fcd520",
   "metadata": {},
   "outputs": [],
   "source": [
    "dev_csv_use = []\n",
    "dev_not_used = []\n",
    "for i in range(len(SampleListDataFrame_dev.index)):\n",
    "    dev_vectors = SampleListDataFrame_dev.iat[i,1]\n",
    "    if dev_vectors >= threshold_dev:\n",
    "        dev_csv_use.append(SampleListDataFrame_dev.iat[i,0])\n",
    "    else:\n",
    "        dev_not_used.append(SampleListDataFrame_dev.iat[i,0])"
   ]
  },
  {
   "cell_type": "code",
   "execution_count": 92,
   "id": "8ceec659-1d67-462c-b1e5-251d0ef78523",
   "metadata": {},
   "outputs": [],
   "source": [
    "for i in range(len(train_csv_use)):\n",
    "    regex1 = '/home/arielferreira/dataSet/audio/agender_distribution/'\n",
    "    regex2 = '.mfc.csv'\n",
    "    train_csv_use[i] = re.sub(regex1, '', train_csv_use[i])\n",
    "    train_csv_use[i] = re.sub(regex2, '.wav', train_csv_use[i])"
   ]
  },
  {
   "cell_type": "code",
   "execution_count": 93,
   "id": "4fd6de95-43e6-44b7-99ab-8d79fa63b6d7",
   "metadata": {},
   "outputs": [],
   "source": [
    "for i in range(len(dev_csv_use)):\n",
    "    regex = '/home/arielferreira/dataSet/audio/agender_distribution/'\n",
    "    regex2 = '.mfc.csv'\n",
    "    dev_csv_use[i] = re.sub(regex1, '', dev_csv_use[i])\n",
    "    dev_csv_use[i] = re.sub(regex2, '.wav', dev_csv_use[i])"
   ]
  },
  {
   "cell_type": "code",
   "execution_count": 95,
   "id": "131ee2fb-f429-4994-9d86-65a8f7eeac2b",
   "metadata": {},
   "outputs": [],
   "source": [
    "train_csv_use_df = pd.DataFrame(train_csv_use).rename(columns={0: 'mfc_files'})\n",
    "dev_csv_use_df = pd.DataFrame(dev_csv_use).rename(columns={0: 'mfc_files'})"
   ]
  },
  {
   "cell_type": "code",
   "execution_count": 104,
   "id": "efa71298-56ea-43e1-889e-0706aa49dd41",
   "metadata": {},
   "outputs": [
    {
     "data": {
      "text/html": [
       "<div>\n",
       "<style scoped>\n",
       "    .dataframe tbody tr th:only-of-type {\n",
       "        vertical-align: middle;\n",
       "    }\n",
       "\n",
       "    .dataframe tbody tr th {\n",
       "        vertical-align: top;\n",
       "    }\n",
       "\n",
       "    .dataframe thead th {\n",
       "        text-align: right;\n",
       "    }\n",
       "</style>\n",
       "<table border=\"1\" class=\"dataframe\">\n",
       "  <thead>\n",
       "    <tr style=\"text-align: right;\">\n",
       "      <th></th>\n",
       "      <th>file</th>\n",
       "      <th>class</th>\n",
       "    </tr>\n",
       "  </thead>\n",
       "  <tbody>\n",
       "    <tr>\n",
       "      <th>0</th>\n",
       "      <td>wav_traindevel/1006/1/a11006s14.wav</td>\n",
       "      <td>1</td>\n",
       "    </tr>\n",
       "    <tr>\n",
       "      <th>1</th>\n",
       "      <td>wav_traindevel/1006/1/a11006s15.wav</td>\n",
       "      <td>1</td>\n",
       "    </tr>\n",
       "    <tr>\n",
       "      <th>2</th>\n",
       "      <td>wav_traindevel/1006/1/a11006s16.wav</td>\n",
       "      <td>1</td>\n",
       "    </tr>\n",
       "    <tr>\n",
       "      <th>3</th>\n",
       "      <td>wav_traindevel/1006/1/a11006s17.wav</td>\n",
       "      <td>1</td>\n",
       "    </tr>\n",
       "    <tr>\n",
       "      <th>4</th>\n",
       "      <td>wav_traindevel/1006/1/a11006s18.wav</td>\n",
       "      <td>1</td>\n",
       "    </tr>\n",
       "    <tr>\n",
       "      <th>...</th>\n",
       "      <td>...</td>\n",
       "      <td>...</td>\n",
       "    </tr>\n",
       "    <tr>\n",
       "      <th>32522</th>\n",
       "      <td>wav_traindevel/7994/6/a17994s5.wav</td>\n",
       "      <td>7</td>\n",
       "    </tr>\n",
       "    <tr>\n",
       "      <th>32523</th>\n",
       "      <td>wav_traindevel/7994/6/a17994s6.wav</td>\n",
       "      <td>7</td>\n",
       "    </tr>\n",
       "    <tr>\n",
       "      <th>32524</th>\n",
       "      <td>wav_traindevel/7994/6/a17994s7.wav</td>\n",
       "      <td>7</td>\n",
       "    </tr>\n",
       "    <tr>\n",
       "      <th>32525</th>\n",
       "      <td>wav_traindevel/7994/6/a17994s8.wav</td>\n",
       "      <td>7</td>\n",
       "    </tr>\n",
       "    <tr>\n",
       "      <th>32526</th>\n",
       "      <td>wav_traindevel/7994/6/a17994s9.wav</td>\n",
       "      <td>7</td>\n",
       "    </tr>\n",
       "  </tbody>\n",
       "</table>\n",
       "<p>32527 rows × 2 columns</p>\n",
       "</div>"
      ],
      "text/plain": [
       "                                      file  class\n",
       "0      wav_traindevel/1006/1/a11006s14.wav      1\n",
       "1      wav_traindevel/1006/1/a11006s15.wav      1\n",
       "2      wav_traindevel/1006/1/a11006s16.wav      1\n",
       "3      wav_traindevel/1006/1/a11006s17.wav      1\n",
       "4      wav_traindevel/1006/1/a11006s18.wav      1\n",
       "...                                    ...    ...\n",
       "32522   wav_traindevel/7994/6/a17994s5.wav      7\n",
       "32523   wav_traindevel/7994/6/a17994s6.wav      7\n",
       "32524   wav_traindevel/7994/6/a17994s7.wav      7\n",
       "32525   wav_traindevel/7994/6/a17994s8.wav      7\n",
       "32526   wav_traindevel/7994/6/a17994s9.wav      7\n",
       "\n",
       "[32527 rows x 2 columns]"
      ]
     },
     "execution_count": 104,
     "metadata": {},
     "output_type": "execute_result"
    }
   ],
   "source": [
    "train_file_df_full"
   ]
  },
  {
   "cell_type": "code",
   "execution_count": 97,
   "id": "7dc8e334-300b-4660-aa4a-c43d6a9a083a",
   "metadata": {},
   "outputs": [
    {
     "data": {
      "text/html": [
       "<div>\n",
       "<style scoped>\n",
       "    .dataframe tbody tr th:only-of-type {\n",
       "        vertical-align: middle;\n",
       "    }\n",
       "\n",
       "    .dataframe tbody tr th {\n",
       "        vertical-align: top;\n",
       "    }\n",
       "\n",
       "    .dataframe thead th {\n",
       "        text-align: right;\n",
       "    }\n",
       "</style>\n",
       "<table border=\"1\" class=\"dataframe\">\n",
       "  <thead>\n",
       "    <tr style=\"text-align: right;\">\n",
       "      <th></th>\n",
       "      <th>mfc_files</th>\n",
       "    </tr>\n",
       "  </thead>\n",
       "  <tbody>\n",
       "    <tr>\n",
       "      <th>0</th>\n",
       "      <td>wav_traindevel/1006/1/a11006s14.wav</td>\n",
       "    </tr>\n",
       "    <tr>\n",
       "      <th>1</th>\n",
       "      <td>wav_traindevel/1006/1/a11006s16.wav</td>\n",
       "    </tr>\n",
       "    <tr>\n",
       "      <th>2</th>\n",
       "      <td>wav_traindevel/1006/2/a11006s11.wav</td>\n",
       "    </tr>\n",
       "    <tr>\n",
       "      <th>3</th>\n",
       "      <td>wav_traindevel/1006/2/a11006s12.wav</td>\n",
       "    </tr>\n",
       "    <tr>\n",
       "      <th>4</th>\n",
       "      <td>wav_traindevel/1006/2/a11006s13.wav</td>\n",
       "    </tr>\n",
       "    <tr>\n",
       "      <th>...</th>\n",
       "      <td>...</td>\n",
       "    </tr>\n",
       "    <tr>\n",
       "      <th>28425</th>\n",
       "      <td>wav_traindevel/7994/6/a17994s5.wav</td>\n",
       "    </tr>\n",
       "    <tr>\n",
       "      <th>28426</th>\n",
       "      <td>wav_traindevel/7994/6/a17994s6.wav</td>\n",
       "    </tr>\n",
       "    <tr>\n",
       "      <th>28427</th>\n",
       "      <td>wav_traindevel/7994/6/a17994s7.wav</td>\n",
       "    </tr>\n",
       "    <tr>\n",
       "      <th>28428</th>\n",
       "      <td>wav_traindevel/7994/6/a17994s8.wav</td>\n",
       "    </tr>\n",
       "    <tr>\n",
       "      <th>28429</th>\n",
       "      <td>wav_traindevel/7994/6/a17994s9.wav</td>\n",
       "    </tr>\n",
       "  </tbody>\n",
       "</table>\n",
       "<p>28430 rows × 1 columns</p>\n",
       "</div>"
      ],
      "text/plain": [
       "                                 mfc_files\n",
       "0      wav_traindevel/1006/1/a11006s14.wav\n",
       "1      wav_traindevel/1006/1/a11006s16.wav\n",
       "2      wav_traindevel/1006/2/a11006s11.wav\n",
       "3      wav_traindevel/1006/2/a11006s12.wav\n",
       "4      wav_traindevel/1006/2/a11006s13.wav\n",
       "...                                    ...\n",
       "28425   wav_traindevel/7994/6/a17994s5.wav\n",
       "28426   wav_traindevel/7994/6/a17994s6.wav\n",
       "28427   wav_traindevel/7994/6/a17994s7.wav\n",
       "28428   wav_traindevel/7994/6/a17994s8.wav\n",
       "28429   wav_traindevel/7994/6/a17994s9.wav\n",
       "\n",
       "[28430 rows x 1 columns]"
      ]
     },
     "execution_count": 97,
     "metadata": {},
     "output_type": "execute_result"
    }
   ],
   "source": [
    "train_csv_use_df    "
   ]
  },
  {
   "cell_type": "code",
   "execution_count": 108,
   "id": "97278a39-5778-4d38-bad8-78f2e5b7b491",
   "metadata": {},
   "outputs": [],
   "source": [
    "train_audio = []\n",
    "train_label = []\n",
    "for j in range(len(train_csv_use_df.index)):\n",
    "    row = train_csv_use_df.iat[j, 0]\n",
    "    for i in range(len(train_file_df_full.index)):\n",
    "        if row == train_file_df_full.iat[i, 0]:\n",
    "            train_audio.append(train_file_df_full.iat[i, 0])\n",
    "            train_label.append(train_file_df_full.iat[i, 1])\n",
    "        else:\n",
    "            None"
   ]
  },
  {
   "cell_type": "code",
   "execution_count": 110,
   "id": "1d6cae9c-6bec-44c4-a4dc-8debc38c84a5",
   "metadata": {},
   "outputs": [
    {
     "data": {
      "text/plain": [
       "(28430, 28430)"
      ]
     },
     "execution_count": 110,
     "metadata": {},
     "output_type": "execute_result"
    }
   ],
   "source": [
    "len(train_audio), len(train_label)"
   ]
  },
  {
   "cell_type": "code",
   "execution_count": 111,
   "id": "9d4dee66-db9c-4a6f-982d-58ec3fae0eac",
   "metadata": {},
   "outputs": [],
   "source": [
    "devel_audio = []\n",
    "devel_label = []\n",
    "for j in range(len(dev_csv_use_df.index)):\n",
    "    row = dev_csv_use_df.iat[j, 0]\n",
    "    for i in range(len(devel_file_df_full.index)):\n",
    "        if row == devel_file_df_full.iat[i, 0]:\n",
    "            devel_audio.append(devel_file_df_full.iat[i, 0])\n",
    "            devel_label.append(devel_file_df_full.iat[i, 1])\n",
    "        else:\n",
    "            None"
   ]
  },
  {
   "cell_type": "code",
   "execution_count": null,
   "id": "1b58a9e7-eeba-4d12-b519-d8099396df5b",
   "metadata": {},
   "outputs": [],
   "source": []
  }
 ],
 "metadata": {
  "kernelspec": {
   "display_name": "Python 3 (ipykernel)",
   "language": "python",
   "name": "python3"
  },
  "language_info": {
   "codemirror_mode": {
    "name": "ipython",
    "version": 3
   },
   "file_extension": ".py",
   "mimetype": "text/x-python",
   "name": "python",
   "nbconvert_exporter": "python",
   "pygments_lexer": "ipython3",
   "version": "3.10.4"
  }
 },
 "nbformat": 4,
 "nbformat_minor": 5
}
