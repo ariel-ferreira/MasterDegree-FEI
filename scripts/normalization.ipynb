{
 "cells": [
  {
   "cell_type": "code",
   "execution_count": 1,
   "id": "b10d859c-6f9f-480e-a847-8d137a759632",
   "metadata": {},
   "outputs": [],
   "source": [
    "import os\n",
    "import pandas as pd\n",
    "import re\n",
    "import numpy as np\n",
    "import matplotlib.pyplot as plt"
   ]
  },
  {
   "cell_type": "code",
   "execution_count": 2,
   "id": "9a47ecf0-d096-4f6c-99f3-9365f3200e0b",
   "metadata": {},
   "outputs": [],
   "source": [
    "def csv_list(DIR, files):\n",
    "    raw_audio_list = [(DIR + files[j]) for j in range(len(files))]\n",
    "    csv_list = [(DIR + (re.sub(r'.raw', '.mfc.csv', files[i]))) for i in range(len(files))]\n",
    "    return csv_list"
   ]
  },
  {
   "cell_type": "code",
   "execution_count": 3,
   "id": "756555f0-477a-498a-9fb9-85ebab978236",
   "metadata": {},
   "outputs": [],
   "source": [
    "def ReadCSV(file):\n",
    "    fin = file\n",
    "    fout = pd.read_csv(fin, header=None)\n",
    "    return fout"
   ]
  },
  {
   "cell_type": "code",
   "execution_count": 4,
   "id": "c0472e51-90a2-4789-8f32-af2eaba74fb0",
   "metadata": {},
   "outputs": [],
   "source": [
    "def NumberVectors(file_list):\n",
    "    min_sample = 0\n",
    "    c = 0\n",
    "    list_vec_qtd = []\n",
    "    for i in range(len(file_list)):\n",
    "        file = file_list[i]\n",
    "        df = ReadCSV(file)\n",
    "        c += 1\n",
    "        num_vectors = len(df.index)\n",
    "        num_samples = num_vectors\n",
    "        list_vec_qtd.append(num_vectors)\n",
    "        if min_sample == 0:\n",
    "            min_sample = num_samples\n",
    "        elif num_samples < min_sample:\n",
    "            min_sample = num_samples\n",
    "            min_file = file_list[i]\n",
    "        else:\n",
    "            None\n",
    "    return (min_sample, min_file, c, list_vec_qtd)"
   ]
  },
  {
   "cell_type": "code",
   "execution_count": 5,
   "id": "9e225609-8d08-4593-afd8-981aa0d10f1e",
   "metadata": {},
   "outputs": [],
   "source": [
    "DIR = os.path.join(os.path.expanduser(\"~\"),'dataSet/audio/agender_distribution/')\n",
    "train_file_txt = 'trainSampleList_train.txt'\n",
    "devel_file_txt = 'trainSampleList_devel.txt'\n",
    "file_tr = pd.read_table(str(DIR + train_file_txt), delimiter=' ', header=None)\n",
    "raw_file_TRlist = file_tr[0]\n",
    "file_dev = pd.read_table(str(DIR + devel_file_txt), delimiter=' ', header=None)\n",
    "raw_file_DEVlist = file_dev[0]"
   ]
  },
  {
   "cell_type": "code",
   "execution_count": 6,
   "id": "1cea1639-44e8-4c88-910c-a4a689929df7",
   "metadata": {},
   "outputs": [],
   "source": [
    "csv_list_train = csv_list(DIR, raw_file_TRlist)\n",
    "csv_list_dev = csv_list(DIR, raw_file_DEVlist)"
   ]
  },
  {
   "cell_type": "code",
   "execution_count": 7,
   "id": "645130ab-0c3d-44b3-a60f-499fa0583276",
   "metadata": {},
   "outputs": [],
   "source": [
    "min_sample_train, min_file_train, counter_check_train, list_vec_qtd_train = NumberVectors(csv_list_train)"
   ]
  },
  {
   "cell_type": "code",
   "execution_count": 116,
   "id": "a96ae1b9-10f4-4511-b4c9-403a454389e4",
   "metadata": {},
   "outputs": [
    {
     "data": {
      "text/plain": [
       "(27,\n",
       " '/home/arielferreira/dataSet/audio/agender_distribution/wav_traindevel/1479/2/a11479s14.mfc.csv',\n",
       " 32527)"
      ]
     },
     "execution_count": 116,
     "metadata": {},
     "output_type": "execute_result"
    }
   ],
   "source": [
    "min_sample_train, min_file_train, counter_check_train"
   ]
  },
  {
   "cell_type": "code",
   "execution_count": 9,
   "id": "c3a4aa88-ede1-4d15-888c-03024f478c8f",
   "metadata": {},
   "outputs": [],
   "source": [
    "min_sample_dev, min_file_dev, counter_check_dev, list_vec_qtd_dev = NumberVectors(csv_list_dev)"
   ]
  },
  {
   "cell_type": "code",
   "execution_count": 115,
   "id": "092c1cdf-0542-4dfc-aa9d-3a83fdb747ec",
   "metadata": {},
   "outputs": [
    {
     "data": {
      "text/plain": [
       "(97,\n",
       " '/home/arielferreira/dataSet/audio/agender_distribution/wav_traindevel/1807/3/a11807s11.mfc.csv',\n",
       " 20549)"
      ]
     },
     "execution_count": 115,
     "metadata": {},
     "output_type": "execute_result"
    }
   ],
   "source": [
    "min_sample_dev, min_file_dev, counter_check_dev"
   ]
  },
  {
   "cell_type": "code",
   "execution_count": 11,
   "id": "bae67919-5c9a-4315-bc08-423596aa9f36",
   "metadata": {},
   "outputs": [],
   "source": [
    "SampleListDataFrame_train = pd.DataFrame(list(zip(csv_list_train, list_vec_qtd_train)), columns=['Train Files', 'Qtd. of Vectors'])"
   ]
  },
  {
   "cell_type": "code",
   "execution_count": 99,
   "id": "a71217ef-3c7e-4478-abc2-c85598ef936b",
   "metadata": {},
   "outputs": [],
   "source": [
    "SampleListDataFrame_dev = pd.DataFrame(list(zip(csv_list_dev, list_vec_qtd_dev)), columns=['Dev Files', 'Qtd. of Vectors'])"
   ]
  },
  {
   "cell_type": "code",
   "execution_count": 117,
   "id": "fa63af09-83a3-476d-b111-55be12e82300",
   "metadata": {},
   "outputs": [
    {
     "data": {
      "text/html": [
       "<div>\n",
       "<style scoped>\n",
       "    .dataframe tbody tr th:only-of-type {\n",
       "        vertical-align: middle;\n",
       "    }\n",
       "\n",
       "    .dataframe tbody tr th {\n",
       "        vertical-align: top;\n",
       "    }\n",
       "\n",
       "    .dataframe thead th {\n",
       "        text-align: right;\n",
       "    }\n",
       "</style>\n",
       "<table border=\"1\" class=\"dataframe\">\n",
       "  <thead>\n",
       "    <tr style=\"text-align: right;\">\n",
       "      <th></th>\n",
       "      <th>Train Files</th>\n",
       "      <th>Qtd. of Vectors</th>\n",
       "    </tr>\n",
       "  </thead>\n",
       "  <tbody>\n",
       "    <tr>\n",
       "      <th>0</th>\n",
       "      <td>/home/arielferreira/dataSet/audio/agender_dist...</td>\n",
       "      <td>396</td>\n",
       "    </tr>\n",
       "    <tr>\n",
       "      <th>1</th>\n",
       "      <td>/home/arielferreira/dataSet/audio/agender_dist...</td>\n",
       "      <td>156</td>\n",
       "    </tr>\n",
       "    <tr>\n",
       "      <th>2</th>\n",
       "      <td>/home/arielferreira/dataSet/audio/agender_dist...</td>\n",
       "      <td>184</td>\n",
       "    </tr>\n",
       "    <tr>\n",
       "      <th>3</th>\n",
       "      <td>/home/arielferreira/dataSet/audio/agender_dist...</td>\n",
       "      <td>152</td>\n",
       "    </tr>\n",
       "    <tr>\n",
       "      <th>4</th>\n",
       "      <td>/home/arielferreira/dataSet/audio/agender_dist...</td>\n",
       "      <td>151</td>\n",
       "    </tr>\n",
       "    <tr>\n",
       "      <th>...</th>\n",
       "      <td>...</td>\n",
       "      <td>...</td>\n",
       "    </tr>\n",
       "    <tr>\n",
       "      <th>32522</th>\n",
       "      <td>/home/arielferreira/dataSet/audio/agender_dist...</td>\n",
       "      <td>350</td>\n",
       "    </tr>\n",
       "    <tr>\n",
       "      <th>32523</th>\n",
       "      <td>/home/arielferreira/dataSet/audio/agender_dist...</td>\n",
       "      <td>200</td>\n",
       "    </tr>\n",
       "    <tr>\n",
       "      <th>32524</th>\n",
       "      <td>/home/arielferreira/dataSet/audio/agender_dist...</td>\n",
       "      <td>200</td>\n",
       "    </tr>\n",
       "    <tr>\n",
       "      <th>32525</th>\n",
       "      <td>/home/arielferreira/dataSet/audio/agender_dist...</td>\n",
       "      <td>250</td>\n",
       "    </tr>\n",
       "    <tr>\n",
       "      <th>32526</th>\n",
       "      <td>/home/arielferreira/dataSet/audio/agender_dist...</td>\n",
       "      <td>200</td>\n",
       "    </tr>\n",
       "  </tbody>\n",
       "</table>\n",
       "<p>32527 rows × 2 columns</p>\n",
       "</div>"
      ],
      "text/plain": [
       "                                             Train Files  Qtd. of Vectors\n",
       "0      /home/arielferreira/dataSet/audio/agender_dist...              396\n",
       "1      /home/arielferreira/dataSet/audio/agender_dist...              156\n",
       "2      /home/arielferreira/dataSet/audio/agender_dist...              184\n",
       "3      /home/arielferreira/dataSet/audio/agender_dist...              152\n",
       "4      /home/arielferreira/dataSet/audio/agender_dist...              151\n",
       "...                                                  ...              ...\n",
       "32522  /home/arielferreira/dataSet/audio/agender_dist...              350\n",
       "32523  /home/arielferreira/dataSet/audio/agender_dist...              200\n",
       "32524  /home/arielferreira/dataSet/audio/agender_dist...              200\n",
       "32525  /home/arielferreira/dataSet/audio/agender_dist...              250\n",
       "32526  /home/arielferreira/dataSet/audio/agender_dist...              200\n",
       "\n",
       "[32527 rows x 2 columns]"
      ]
     },
     "execution_count": 117,
     "metadata": {},
     "output_type": "execute_result"
    }
   ],
   "source": [
    "SampleListDataFrame_train"
   ]
  },
  {
   "cell_type": "code",
   "execution_count": 105,
   "id": "ea264763-5069-4930-b2cf-201057a986ad",
   "metadata": {},
   "outputs": [],
   "source": [
    "counter_train = SampleListDataFrame_train['Qtd. of Vectors'].value_counts()"
   ]
  },
  {
   "cell_type": "code",
   "execution_count": 120,
   "id": "1eda379a-f215-444c-995f-1e642a5281a4",
   "metadata": {},
   "outputs": [],
   "source": [
    "#counter_train = counter_train.to_frame('qtd')"
   ]
  },
  {
   "cell_type": "code",
   "execution_count": 107,
   "id": "ed7ce29d-8851-4803-8a12-6bfca360c7ef",
   "metadata": {},
   "outputs": [],
   "source": [
    "counter_dev = SampleListDataFrame_dev['Qtd. of Vectors'].value_counts()"
   ]
  },
  {
   "cell_type": "code",
   "execution_count": 119,
   "id": "ff20e283-1c3b-46d5-adc4-fdd42243f6af",
   "metadata": {},
   "outputs": [],
   "source": [
    "#counter_dev = counter_dev.to_frame('qtd')"
   ]
  },
  {
   "cell_type": "code",
   "execution_count": 113,
   "id": "b842d468-0494-425f-9c35-30cfe993d73a",
   "metadata": {},
   "outputs": [
    {
     "data": {
      "text/plain": [
       "28430"
      ]
     },
     "execution_count": 113,
     "metadata": {},
     "output_type": "execute_result"
    }
   ],
   "source": [
    "threshold_train = 169\n",
    "files_to_use_train = 0\n",
    "for k in range(len(counter_train)):\n",
    "    row_index = counter_train.index[k]\n",
    "    row_value = counter_train.iat[k, 0]\n",
    "    if row_index >= threshold_train:\n",
    "        files_to_use_train = files_to_use_train + row_value\n",
    "files_to_use_train"
   ]
  },
  {
   "cell_type": "code",
   "execution_count": 114,
   "id": "12472764-4856-4045-a5b2-b2097fdb9cb4",
   "metadata": {},
   "outputs": [
    {
     "data": {
      "text/plain": [
       "17939"
      ]
     },
     "execution_count": 114,
     "metadata": {},
     "output_type": "execute_result"
    }
   ],
   "source": [
    "threshold_dev = 169\n",
    "files_to_use_dev = 0\n",
    "for k in range(len(counter_dev)):\n",
    "    row_index = counter_dev.index[k]\n",
    "    row_value = counter_dev.iat[k, 0]\n",
    "    if row_index >= threshold_dev:\n",
    "        files_to_use_dev = files_to_use_dev + row_value\n",
    "files_to_use_dev"
   ]
  },
  {
   "cell_type": "code",
   "execution_count": 121,
   "id": "516b72e3-990d-413d-bf4a-9e648955867d",
   "metadata": {},
   "outputs": [
    {
     "data": {
      "text/html": [
       "<div>\n",
       "<style scoped>\n",
       "    .dataframe tbody tr th:only-of-type {\n",
       "        vertical-align: middle;\n",
       "    }\n",
       "\n",
       "    .dataframe tbody tr th {\n",
       "        vertical-align: top;\n",
       "    }\n",
       "\n",
       "    .dataframe thead th {\n",
       "        text-align: right;\n",
       "    }\n",
       "</style>\n",
       "<table border=\"1\" class=\"dataframe\">\n",
       "  <thead>\n",
       "    <tr style=\"text-align: right;\">\n",
       "      <th></th>\n",
       "      <th>Train Files</th>\n",
       "      <th>Qtd. of Vectors</th>\n",
       "    </tr>\n",
       "  </thead>\n",
       "  <tbody>\n",
       "    <tr>\n",
       "      <th>0</th>\n",
       "      <td>/home/arielferreira/dataSet/audio/agender_dist...</td>\n",
       "      <td>396</td>\n",
       "    </tr>\n",
       "    <tr>\n",
       "      <th>1</th>\n",
       "      <td>/home/arielferreira/dataSet/audio/agender_dist...</td>\n",
       "      <td>156</td>\n",
       "    </tr>\n",
       "    <tr>\n",
       "      <th>2</th>\n",
       "      <td>/home/arielferreira/dataSet/audio/agender_dist...</td>\n",
       "      <td>184</td>\n",
       "    </tr>\n",
       "  </tbody>\n",
       "</table>\n",
       "</div>"
      ],
      "text/plain": [
       "                                         Train Files  Qtd. of Vectors\n",
       "0  /home/arielferreira/dataSet/audio/agender_dist...              396\n",
       "1  /home/arielferreira/dataSet/audio/agender_dist...              156\n",
       "2  /home/arielferreira/dataSet/audio/agender_dist...              184"
      ]
     },
     "execution_count": 121,
     "metadata": {},
     "output_type": "execute_result"
    }
   ],
   "source": [
    "SampleListDataFrame_train[:3]"
   ]
  },
  {
   "cell_type": "code",
   "execution_count": 124,
   "id": "62eaa247-f447-42ea-9390-74bc467f5e7b",
   "metadata": {},
   "outputs": [
    {
     "data": {
      "text/plain": [
       "396"
      ]
     },
     "execution_count": 124,
     "metadata": {},
     "output_type": "execute_result"
    }
   ],
   "source": [
    "SampleListDataFrame_train.iat[0,1]"
   ]
  },
  {
   "cell_type": "code",
   "execution_count": 131,
   "id": "22a7f146-351a-4c27-bab1-f21499972b2b",
   "metadata": {},
   "outputs": [
    {
     "data": {
      "text/plain": [
       "'/home/arielferreira/dataSet/audio/agender_distribution/wav_traindevel/1006/1/a11006s17.mfc.csv'"
      ]
     },
     "execution_count": 131,
     "metadata": {},
     "output_type": "execute_result"
    }
   ],
   "source": [
    "SampleListDataFrame_train.iat[3,0]"
   ]
  },
  {
   "cell_type": "code",
   "execution_count": 132,
   "id": "4d5d30f2-46be-4d9b-8848-1ce4299e9a4f",
   "metadata": {},
   "outputs": [],
   "source": [
    "train_csv_use = []\n",
    "train_not_used = []\n",
    "for i in range(len(SampleListDataFrame_train.index)):\n",
    "    train_vectors = SampleListDataFrame_train.iat[i,1]\n",
    "    if train_vectors >= threshold_train:\n",
    "        train_csv_use.append(SampleListDataFrame_train.iat[i,0])\n",
    "    else:\n",
    "        train_not_used.append(SampleListDataFrame_train.iat[i,0])"
   ]
  },
  {
   "cell_type": "code",
   "execution_count": 134,
   "id": "8dd6f696-fb8a-43ff-a67b-eb5e114f50fd",
   "metadata": {},
   "outputs": [
    {
     "data": {
      "text/plain": [
       "(28430, 4097)"
      ]
     },
     "execution_count": 134,
     "metadata": {},
     "output_type": "execute_result"
    }
   ],
   "source": [
    "len(train_csv_use), len(train_not_used)"
   ]
  },
  {
   "cell_type": "code",
   "execution_count": null,
   "id": "50537dfd-da3c-4813-9363-e09de439fd25",
   "metadata": {},
   "outputs": [],
   "source": [
    "train_csv_use = []\n",
    "train_not_used = []\n",
    "for i in range(len(SampleListDataFrame_train.index)):\n",
    "    train_vectors = SampleListDataFrame_train.iat[i,1]\n",
    "    if train_vectors >= threshold_train:\n",
    "        train_csv_use.append(SampleListDataFrame_train.iat[i,0])\n",
    "    else:\n",
    "        train_not_used.append(SampleListDataFrame_train.iat[i,0])"
   ]
  },
  {
   "cell_type": "code",
   "execution_count": 136,
   "id": "0187af9c-5071-4e07-9ed7-e93cd0d0621d",
   "metadata": {},
   "outputs": [],
   "source": [
    "dev_csv_use = []\n",
    "dev_not_used = []\n",
    "for i in range(len(SampleListDataFrame_dev.index)):\n",
    "    dev_vectors = SampleListDataFrame_dev.iat[i,1]\n",
    "    if dev_vectors >= threshold_dev:\n",
    "        dev_csv_use.append(SampleListDataFrame_dev.iat[i,0])\n",
    "    else:\n",
    "        dev_not_used.append(SampleListDataFrame_dev.iat[i,0])"
   ]
  },
  {
   "cell_type": "code",
   "execution_count": 137,
   "id": "866c881d-f29d-42e0-abba-72e6a5a4fd9b",
   "metadata": {},
   "outputs": [
    {
     "data": {
      "text/plain": [
       "(17939, 2610)"
      ]
     },
     "execution_count": 137,
     "metadata": {},
     "output_type": "execute_result"
    }
   ],
   "source": [
    "len(dev_csv_use), len(dev_not_used)"
   ]
  },
  {
   "cell_type": "code",
   "execution_count": null,
   "id": "a1b75f90-ff22-4655-b37d-b796b3dca8a6",
   "metadata": {},
   "outputs": [],
   "source": []
  },
  {
   "cell_type": "code",
   "execution_count": null,
   "id": "a45b0a1b-2b3c-4c14-a375-6c06e02c9246",
   "metadata": {},
   "outputs": [],
   "source": []
  },
  {
   "cell_type": "code",
   "execution_count": null,
   "id": "eb7d0988-2f8d-4369-8dc0-cd5e0e822b71",
   "metadata": {},
   "outputs": [],
   "source": []
  },
  {
   "cell_type": "code",
   "execution_count": null,
   "id": "f82651b8-2b47-4997-bee8-38fa0925f071",
   "metadata": {},
   "outputs": [],
   "source": []
  },
  {
   "cell_type": "code",
   "execution_count": null,
   "id": "db16bab6-ed91-48ad-8108-d232a5972f75",
   "metadata": {},
   "outputs": [],
   "source": []
  },
  {
   "cell_type": "code",
   "execution_count": null,
   "id": "127280ee-cf5c-4555-a5bf-becec341aac0",
   "metadata": {},
   "outputs": [],
   "source": []
  },
  {
   "cell_type": "code",
   "execution_count": null,
   "id": "f911b2b9-ce6a-4c84-8eb4-3a8a2eae89db",
   "metadata": {},
   "outputs": [],
   "source": []
  },
  {
   "cell_type": "code",
   "execution_count": null,
   "id": "32f58c4b-6e16-42f6-b499-63d91314156e",
   "metadata": {},
   "outputs": [],
   "source": []
  }
 ],
 "metadata": {
  "kernelspec": {
   "display_name": "Python 3 (ipykernel)",
   "language": "python",
   "name": "python3"
  },
  "language_info": {
   "codemirror_mode": {
    "name": "ipython",
    "version": 3
   },
   "file_extension": ".py",
   "mimetype": "text/x-python",
   "name": "python",
   "nbconvert_exporter": "python",
   "pygments_lexer": "ipython3",
   "version": "3.10.4"
  }
 },
 "nbformat": 4,
 "nbformat_minor": 5
}
