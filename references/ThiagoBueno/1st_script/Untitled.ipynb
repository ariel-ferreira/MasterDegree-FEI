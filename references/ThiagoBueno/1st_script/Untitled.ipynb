{
 "cells": [
  {
   "cell_type": "code",
   "execution_count": 1,
   "id": "a9ea6614-95d5-4319-a621-072d75a373c6",
   "metadata": {},
   "outputs": [],
   "source": [
    "import numpy as np\n",
    "import librosa"
   ]
  },
  {
   "cell_type": "code",
   "execution_count": 2,
   "id": "9ffa9d76-45f8-4069-9608-0d74c2a55859",
   "metadata": {},
   "outputs": [],
   "source": [
    "file_name = '/home/arielferreira/dataSet/audio/agender_distribution/wav_traindevel/1006/1/a11006s14.wav'"
   ]
  },
  {
   "cell_type": "code",
   "execution_count": 3,
   "id": "75ca0afe-098c-4ac9-a02c-675163b2ad59",
   "metadata": {},
   "outputs": [
    {
     "data": {
      "text/plain": [
       "'/home/arielferreira/dataSet/audio/agender_distribution/wav_traindevel/1006/1/a11006s14.wav'"
      ]
     },
     "execution_count": 3,
     "metadata": {},
     "output_type": "execute_result"
    }
   ],
   "source": [
    "file_name"
   ]
  },
  {
   "cell_type": "code",
   "execution_count": 14,
   "id": "5101b45c-8eea-4fde-b75f-55ddff96b6df",
   "metadata": {},
   "outputs": [],
   "source": [
    "X, sample_rate = librosa.load(file_name, sr=8000, res_type='kaiser_fast')"
   ]
  },
  {
   "cell_type": "code",
   "execution_count": 15,
   "id": "9e3e8bea-3a5d-4035-b4d1-96c23e520575",
   "metadata": {},
   "outputs": [
    {
     "data": {
      "text/plain": [
       "array([0.00024414, 0.00024414, 0.00024414, ..., 0.00024414, 0.00024414,\n",
       "       0.00024414], dtype=float32)"
      ]
     },
     "execution_count": 15,
     "metadata": {},
     "output_type": "execute_result"
    }
   ],
   "source": [
    "X"
   ]
  },
  {
   "cell_type": "code",
   "execution_count": 16,
   "id": "f937e126-4740-4f33-9e5c-1baff401e017",
   "metadata": {},
   "outputs": [
    {
     "data": {
      "text/plain": [
       "31808"
      ]
     },
     "execution_count": 16,
     "metadata": {},
     "output_type": "execute_result"
    }
   ],
   "source": [
    "len(X)"
   ]
  },
  {
   "cell_type": "code",
   "execution_count": 18,
   "id": "f69ac817-a267-4b00-ac18-30142ae5757a",
   "metadata": {},
   "outputs": [
    {
     "data": {
      "text/plain": [
       "0.00024414062"
      ]
     },
     "execution_count": 18,
     "metadata": {},
     "output_type": "execute_result"
    }
   ],
   "source": [
    "X[31807]"
   ]
  },
  {
   "cell_type": "code",
   "execution_count": 19,
   "id": "7167e67d-c7f8-4ea5-8d44-886966dbec82",
   "metadata": {},
   "outputs": [
    {
     "data": {
      "text/plain": [
       "8000"
      ]
     },
     "execution_count": 19,
     "metadata": {},
     "output_type": "execute_result"
    }
   ],
   "source": [
    "sample_rate"
   ]
  },
  {
   "cell_type": "code",
   "execution_count": null,
   "id": "3fe11f76-5c93-4e6c-8e12-2e1c2bf62729",
   "metadata": {},
   "outputs": [],
   "source": []
  },
  {
   "cell_type": "code",
   "execution_count": 20,
   "id": "82decd74-96dc-451c-91d6-b814b99529c8",
   "metadata": {},
   "outputs": [],
   "source": [
    "mfcc = librosa.feature.mfcc(y=X, sr=sample_rate, n_mfcc=39)"
   ]
  },
  {
   "cell_type": "code",
   "execution_count": 21,
   "id": "89c32c8f-19c1-4204-ad56-3b4b0f355bd2",
   "metadata": {},
   "outputs": [
    {
     "data": {
      "text/plain": [
       "array([[-616.8139   , -617.87366  , -573.7589   , ..., -618.45654  ,\n",
       "        -618.348    , -617.0681   ],\n",
       "       [   4.5025845,    3.006961 ,  -43.951538 , ...,    2.1833775,\n",
       "           2.3367648,    4.144525 ],\n",
       "       [   4.4908504,    3.0041356,   25.445688 , ...,    2.1828837,\n",
       "           2.336166 ,    4.136801 ],\n",
       "       ...,\n",
       "       [   1.4428074,    2.0621057,   -1.1899216, ...,    1.9738989,\n",
       "           2.0862727,    1.9156752],\n",
       "       [   1.3590691,    2.0225372,    5.0603576, ...,    1.9622933,\n",
       "           2.0726357,    1.8408053],\n",
       "       [   1.2798892,    1.9831187,   -1.606627 , ...,    1.9503921,\n",
       "           2.0586762,    1.7680309]], dtype=float32)"
      ]
     },
     "execution_count": 21,
     "metadata": {},
     "output_type": "execute_result"
    }
   ],
   "source": [
    "mfcc"
   ]
  },
  {
   "cell_type": "code",
   "execution_count": 22,
   "id": "8e3d5733-cc0e-4b0b-a2da-f45bc41d101c",
   "metadata": {},
   "outputs": [
    {
     "data": {
      "text/plain": [
       "39"
      ]
     },
     "execution_count": 22,
     "metadata": {},
     "output_type": "execute_result"
    }
   ],
   "source": [
    "len(mfcc)"
   ]
  },
  {
   "cell_type": "code",
   "execution_count": null,
   "id": "fff12edd-7d36-4ea3-b9dc-ce58790bae8b",
   "metadata": {},
   "outputs": [],
   "source": []
  }
 ],
 "metadata": {
  "kernelspec": {
   "display_name": "Python 3 (ipykernel)",
   "language": "python",
   "name": "python3"
  },
  "language_info": {
   "codemirror_mode": {
    "name": "ipython",
    "version": 3
   },
   "file_extension": ".py",
   "mimetype": "text/x-python",
   "name": "python",
   "nbconvert_exporter": "python",
   "pygments_lexer": "ipython3",
   "version": "3.10.2"
  }
 },
 "nbformat": 4,
 "nbformat_minor": 5
}
